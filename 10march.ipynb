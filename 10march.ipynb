{
 "cells": [
  {
   "cell_type": "markdown",
   "id": "57cf0d80-ea0a-4dcf-9091-49b03ed05686",
   "metadata": {},
   "source": [
    "Q1: What is Estimation Statistics? Explain point estimate and interval estimate."
   ]
  },
  {
   "cell_type": "markdown",
   "id": "e0cbe394-26c0-4275-bd25-e9dd7a734378",
   "metadata": {},
   "source": [
    "A point estimate is a single value estimate of a parameter. For instance, a sample mean is a point estimate of a population mean. An interval estimate gives you a range of values where the parameter is expected to lie. A confidence interval is the most common type of interval estimate."
   ]
  },
  {
   "cell_type": "markdown",
   "id": "4e7c6a33-4ee4-4989-8b29-da2be2f4f96b",
   "metadata": {},
   "source": [
    "Q2. Write a Python function to estimate the population mean using a sample mean and standard\n",
    "deviation."
   ]
  },
  {
   "cell_type": "code",
   "execution_count": 2,
   "id": "96b923c2-3421-4325-ac3d-f00719205b81",
   "metadata": {},
   "outputs": [
    {
     "name": "stdout",
     "output_type": "stream",
     "text": [
      " population of mean:80.5 (with a 95%  confidence between79.61 and 81.39)\n"
     ]
    }
   ],
   "source": [
    "import math\n",
    "def estimate_population_mean(sample_mean, sample_stddev , sample_size):\n",
    "    standard_error = sample_stddev /math.sqrt(sample_size)\n",
    "    z_score = 1.96\n",
    "    margin_of_error = z_score*standard_error\n",
    "    lower_bound = sample_mean - margin_of_error\n",
    "    upper_bound = sample_mean+ margin_of_error\n",
    "    return lower_bound , upper_bound\n",
    "sample_mean= 80.5\n",
    "sample_stddev = 6.4\n",
    "sample_size = 200\n",
    "lower_bound , upper_bound = estimate_population_mean(sample_mean, sample_stddev, sample_size)\n",
    "print(f\" population of mean:{sample_mean} (with a 95%  confidence intervabetween{lower_bound:.2f} and {upper_bound:.2f})\")\n"
   ]
  },
  {
   "cell_type": "markdown",
   "id": "6be71b7e-f535-4781-a2b3-851f4e10e208",
   "metadata": {},
   "source": [
    "Q3: What is Hypothesis testing? Why is it used? State the importance of Hypothesis testing."
   ]
  },
  {
   "cell_type": "markdown",
   "id": "447a6a8c-7570-4910-9acc-00628e8d5920",
   "metadata": {},
   "source": [
    "Hypothesis testing is a statistical method used to make inferences about a population based on a sample of data. It is a fundamental technique in inferential statistics, which aims to draw conclusions about a larger group (population) based on observations from a smaller subset (sample).\n",
    "\n",
    "\n",
    "\n",
    "1. Formulating Hypotheses: The process starts with stating two mutually exclusive hypotheses based on the research question or claim. These hypotheses are known as the null hypothesis (H0) and the alternative hypothesis (Ha). The null hypothesis typically represents the status quo or no effect, while the alternative hypothesis represents the effect or difference we want to test for.\n",
    "\n",
    "2. Collecting Data: Data is collected from a representative sample of the population.\n",
    "\n",
    "3. Test Statistic: A test statistic is calculated from the sample data, which quantifies the difference between the observed sample results and what is expected under the null hypothesis.\n",
    "\n",
    "4. P-value: The p-value is the probability of obtaining results as extreme or more extreme than what was observed, assuming that the null hypothesis is true. It indicates how likely the observed data would occur if the null hypothesis were correct.\n",
    "\n",
    "5. Decision: By comparing the p-value to a pre-defined significance level (often denoted as α), which represents the threshold for determining statistical significance, a decision is made. If the p-value is less than or equal to α, we reject the null hypothesis in favor of the alternative hypothesis. If the p-value is greater than α, we fail to reject the null hypothesis.\n",
    "\n",
    "The importance of hypothesis testing lies in several aspects:\n",
    "\n",
    "1. Objectivity: Hypothesis testing provides a systematic and objective approach to evaluate claims or theories based on empirical evidence.\n",
    "\n",
    "2. Inference to the Population: With hypothesis testing, we can draw conclusions about the entire population using sample data, which is often more feasible and less expensive than studying the entire population.\n",
    "\n",
    "3. Scientific Research: Hypothesis testing is widely used in scientific research to test the effectiveness of new treatments, study the impact of interventions, or examine relationships between variables.\n",
    "\n",
    "4. Decision-Making: In various fields, like business, medicine, social sciences, and engineering, hypothesis testing helps in making informed decisions based on statistical evidence.\n",
    "\n",
    "5. Validity and Reliability: By subjecting hypotheses to rigorous testing, it ensures that the conclusions drawn are statistically valid and reliable.\n",
    "\n",
    "6. Accountability: Hypothesis testing adds a level of accountability, as researchers or analysts must justify their conclusions based on empirical evidence.\n",
    "\n",
    "7. Basis for Further Investigation: The results of hypothesis testing can guide further investigations and research in the area of interest."
   ]
  },
  {
   "cell_type": "markdown",
   "id": "df922fc3-ad1a-41dc-8f1d-518ba10885fc",
   "metadata": {},
   "source": [
    "Q4. Create a hypothesis that states whether the average weight of male college students is greater than\n",
    "the average weight of female college students."
   ]
  },
  {
   "cell_type": "code",
   "execution_count": 15,
   "id": "9f28c12f-a57e-485d-bb26-f5d824df8139",
   "metadata": {},
   "outputs": [
    {
     "name": "stdout",
     "output_type": "stream",
     "text": [
      "Male Mean Weight: 82.5\n",
      "Female Mean Weight: 67.5\n",
      "P-Value: 0.01953560546266314\n",
      "T-statistic: 2.7774602993176543\n",
      "Reject null hypotheshis: The average weight of male college student is greater than average weight of female college student\n"
     ]
    }
   ],
   "source": [
    "import numpy as np\n",
    "import scipy.stats as stats\n",
    "male_weight = np.array([70,75,80,85,90,95])\n",
    "female_weight = np.array([55,60,65,70,75,80])\n",
    "male_mean = np.mean(male_weight)\n",
    "female_mean = np.mean(female_weight)\n",
    "t_stat, p_value = stats.ttest_ind(male_weight, female_weight, equal_var= False)\n",
    "alpha = 0.05\n",
    "print(\"Male Mean Weight:\" , male_mean)\n",
    "print(\"Female Mean Weight:\" , female_mean)\n",
    "print(\"P-Value:\", p_value)\n",
    "print(\"T-statistic:\" , t_stat)\n",
    "if p_value<alpha :\n",
    "    print(\"Reject null hypotheshis: The average weight of male college student is greater than average weight of female college student\")\n",
    "else:\n",
    "          print(\"Failtorejectnullhypotheshis:There is'ntenoughevidencetoconclude that the average weight of male & female college students\")"
   ]
  },
  {
   "cell_type": "markdown",
   "id": "c923ca7d-62a4-43a9-8eb6-0d6cf5f20c67",
   "metadata": {},
   "source": [
    "Q5. Write a Python script to conduct a hypothesis test on the difference between two population means,\n",
    "given a sample from each population."
   ]
  },
  {
   "cell_type": "code",
   "execution_count": 16,
   "id": "87d372dd-51da-4f0b-a03a-5a9d1303f1ac",
   "metadata": {},
   "outputs": [
    {
     "name": "stdout",
     "output_type": "stream",
     "text": [
      "T- statistics: -1.1766968108291043\n",
      "P-Value: 0.2546435960946474\n",
      "Failtorejectnullhypotheshis:Thereisnot enough evidence to conclude a significant difference between two population means.\n"
     ]
    }
   ],
   "source": [
    "import numpy as np\n",
    "import scipy.stats as stats\n",
    "sample1= np.array([4,6,7,8,3,5,6,2,9,5])\n",
    "sample2= np.array([7,5,6,9,8,7,6,5,4,8])\n",
    "alpha = 0.05\n",
    "t_stat, p_value = stats.ttest_ind(sample1 , sample2)\n",
    "print(\"T- statistics:\" , t_stat)\n",
    "print(\"P-Value:\" , p_value)\n",
    "\n",
    "\n",
    "if p_value<alpha :\n",
    "    print(\"Reject null hypotheshis: There is a significant difference between the two population means.\")\n",
    "else:\n",
    "          print(\"Failtorejectnullhypotheshis:Thereisnot enough evidence to conclude a significant difference between two population means.\")"
   ]
  },
  {
   "cell_type": "markdown",
   "id": "26168528-7cea-4729-b19d-86f0d9776e6d",
   "metadata": {},
   "source": [
    "Q6: What is a null and alternative hypothesis? Give some examples."
   ]
  },
  {
   "cell_type": "markdown",
   "id": "95089554-b97c-418e-b3da-999429c6c1fd",
   "metadata": {},
   "source": [
    "The null hypothesis is the one to be tested and the alternative is everything else. In our example: The null hypothesis would be: The mean data scientist salary is 113,000 dollars. While the alternative: The mean data scientist salary is not 113,000 dollars."
   ]
  },
  {
   "cell_type": "markdown",
   "id": "8fecd94a-6cde-40dd-be33-3efad1290fb3",
   "metadata": {},
   "source": [
    "Q7: Write down the steps involved in hypothesis testing"
   ]
  },
  {
   "cell_type": "markdown",
   "id": "bca270de-5155-434e-a26e-8af98a41193d",
   "metadata": {},
   "source": [
    "There are 5 main steps in hypothesis testing:\n",
    "\n",
    "State your research hypothesis as a null hypothesis and alternate hypothesis (Ho) and (Ha or H1).\n",
    "Collect data in a way designed to test the hypothesis.\n",
    "Perform an appropriate statistical test.\n",
    "Decide whether to reject or fail to reject your null hypothesis.\n",
    "Present the findings in your results and discussion section."
   ]
  },
  {
   "cell_type": "markdown",
   "id": "e9147a9a-d840-4b9e-9085-ea705cb252e4",
   "metadata": {},
   "source": [
    "Q8. Define p-value and explain its significance in hypothesis testing."
   ]
  },
  {
   "cell_type": "markdown",
   "id": "6ecb4f7d-ee5f-4821-b0ef-22e5ecc51d3b",
   "metadata": {},
   "source": [
    "The p value is a number, calculated from a statistical test, that describes how likely you are to have found a particular set of observations if the null hypothesis were true. P values are used in hypothesis testing to help decide whether to reject the null hypothesis"
   ]
  },
  {
   "cell_type": "markdown",
   "id": "dba2e60f-3a63-4385-aaba-73b9ab809276",
   "metadata": {},
   "source": [
    "Q9. Generate a Student's t-distribution plot using Python's matplotlib library, with the degrees of freedom\n",
    "parameter set to 10."
   ]
  },
  {
   "cell_type": "code",
   "execution_count": 19,
   "id": "182d200a-da35-49a2-a29d-8bd889ddf27f",
   "metadata": {},
   "outputs": [
    {
     "data": {
      "image/png": "[encoded data removed]",
      "text/plain": [
       "<Figure size 640x480 with 1 Axes>"
      ]
     },
     "metadata": {},
     "output_type": "display_data"
    }
   ],
   "source": [
    "import numpy as np\n",
    "import matplotlib.pyplot as plt\n",
    "import scipy.stats as stats\n",
    "df = 10\n",
    "x = np.linspace(-4, 4,500)\n",
    "pdf = stats.t.pdf(x, df)\n",
    "plt.plot(x, pdf, label='Degrees of Freedom= 10')\n",
    "plt.xlabel('x')\n",
    "plt.ylabel('Probanility Destiny')\n",
    "plt.title('Student\\'s t-distribution')\n",
    "\n",
    "plt.legend()\n",
    "plt.show()"
   ]
  },
  {
   "cell_type": "markdown",
   "id": "57e4718b-1e3d-4ed0-b427-7d22a7a7c688",
   "metadata": {},
   "source": [
    "Q10. Write a Python program to calculate the two-sample t-test for independent samples, given two\n",
    "random samples of equal size and a null hypothesis that the population means are equal."
   ]
  },
  {
   "cell_type": "code",
   "execution_count": 22,
   "id": "ed03407b-4c43-420c-9e9a-710df3c26aaa",
   "metadata": {},
   "outputs": [
    {
     "name": "stdout",
     "output_type": "stream",
     "text": [
      "T- statistics: -1.1766968108291043\n",
      "P-Value: 0.2546435960946474\n",
      "Degrees of Freedom: 18\n",
      "Crtical t-value: 2.10092204024096\n",
      "Fail to reject null hypotheshis:There is not enough evidence to conclude that population means are different.\n"
     ]
    }
   ],
   "source": [
    "import numpy as np\n",
    "import scipy.stats as stats\n",
    "sample1= np.array([4,6,7,8,3,5,6,2,9,5])\n",
    "sample2= np.array([7,5,6,9,8,7,6,5,4,8])\n",
    "alpha = 0.05\n",
    "t_stat, p_value = stats.ttest_ind(sample1 , sample2)\n",
    "df = len(sample1) + len(sample2) - 2\n",
    "crtical_t = stats.t.ppf(1- alpha /2, df)\n",
    "print(\"T- statistics:\" , t_stat)\n",
    "print(\"P-Value:\" , p_value)\n",
    "print(\"Degrees of Freedom:\", df)\n",
    "print(\"Crtical t-value:\", crtical_t)\n",
    "\n",
    "\n",
    "\n",
    "if np.abs(t_stat) > crtical_t or p_value < alpha:\n",
    "    print(\"Reject null hypotheshis: The populations means are not equal.\")\n",
    "else:\n",
    "          print(\"Fail to reject null hypotheshis:There is not enough evidence to conclude that population means are different.\")"
   ]
  },
  {
   "cell_type": "markdown",
   "id": "582cf29e-9087-4796-993f-844ef3ca24e3",
   "metadata": {},
   "source": [
    "Q11: What is Student’s t distribution? When to use the t-Distribution."
   ]
  },
  {
   "cell_type": "markdown",
   "id": "c55939d5-cb81-491f-a31b-8033f8751fc9",
   "metadata": {},
   "source": [
    "The T Distribution also called the student's t-distribution and is used while making assumptions about a mean when we don't know the standard deviation. In probability and statistics, the normal distribution is a bell-shaped distribution whose mean is μ and the standard deviation is σ."
   ]
  },
  {
   "cell_type": "markdown",
   "id": "cf1287ad-80a7-42a1-bce2-a831ed0956e7",
   "metadata": {},
   "source": [
    "Q12: What is t-statistic? State the formula for t-statistic."
   ]
  },
  {
   "cell_type": "markdown",
   "id": "eab6f86c-d571-4a7a-9dfd-56275cef7604",
   "metadata": {},
   "source": [
    "The t-statistic is used in a t-test to determine whether to support or reject the null hypothesis. It is very similar to the z-score but with the difference that t-statistic is used when the sample size is small or the population standard deviation is unknown. For example, the t-statistic is used in estimating the population mean from a sampling distribution of sample means if the population standard deviation is unknown. It is also used along with p-value when running hypothesis tests where the p-value tells us what the odds are of the results to have happened.\n",
    "t= (X‾ - μ0) / (s / √n),"
   ]
  },
  {
   "cell_type": "markdown",
   "id": "59fc2a05-a386-4da6-8b21-3bc13f381468",
   "metadata": {},
   "source": [
    "Q13. A coffee shop owner wants to estimate the average daily revenue for their shop. They take a random\n",
    "sample of 50 days and find the sample mean revenue to be $500 with a standard deviation of $50.\n",
    "Estimate the population mean revenue with a 95% confidence interval."
   ]
  },
  {
   "cell_type": "code",
   "execution_count": 28,
   "id": "ef9326f9-fe41-49c5-8116-8e9a1af6e010",
   "metadata": {},
   "outputs": [
    {
     "name": "stdout",
     "output_type": "stream",
     "text": [
      "Sample Mean: $500\n",
      " Standard Error of the Mean(SEM): $7.07\n",
      " Margin of Error: $14.21\n",
      " 95% Confidence Interval: $ 485.79 to $ 514.21\n"
     ]
    }
   ],
   "source": [
    "import numpy as np\n",
    "from scipy.stats import t\n",
    "sample_mean = 500\n",
    "sample_std= 50\n",
    "sample_size = 50\n",
    "df = sample_size - 1\n",
    "sem = sample_std / np.sqrt(sample_size)\n",
    "t_score = t.ppf(0.975, df)\n",
    "margin_of_error = t_score * sem\n",
    "lower_bound = sample_mean - margin_of_error\n",
    "upper_bound = sample_mean + margin_of_error\n",
    "print(f\"Sample Mean: ${sample_mean}\")\n",
    "print(f\" Standard Error of the Mean(SEM): ${sem:.2f}\")\n",
    "print(f\" Margin of Error: ${margin_of_error:.2f}\")\n",
    "print(f\" 95% Confidence Interval: ${lower_bound: .2f} to ${upper_bound: .2f}\")"
   ]
  },
  {
   "cell_type": "markdown",
   "id": "8b61a191-6758-4cf8-8823-179d6fe6a127",
   "metadata": {},
   "source": [
    "Q14. A researcher hypothesizes that a new drug will decrease blood pressure by 10 mmHg. They conduct a\n",
    "clinical trial with 100 patients and find that the sample mean decrease in blood pressure is 8 mmHg with a\n",
    "standard deviation of 3 mmHg. Test the hypothesis with a significance level of 0.05."
   ]
  },
  {
   "cell_type": "code",
   "execution_count": 2,
   "id": "82c07660-c0e8-4c14-8b7f-c8dd8c6976eb",
   "metadata": {},
   "outputs": [
    {
     "name": "stdout",
     "output_type": "stream",
     "text": [
      "Reject null hypothesis. The new drug decreases blood pressure significianty.\n"
     ]
    }
   ],
   "source": [
    "import numpy as np\n",
    "from scipy import stats\n",
    "sample_mean = 8\n",
    "hypothesized_mean = 10\n",
    "sample_std = 3\n",
    "sample_size = 100\n",
    "t = (sample_mean - hypothesized_mean) /(sample_std / np.sqrt(sample_size))\n",
    "df = sample_size - 1\n",
    "p_value = 2* (1- stats.t.cdf(abs(t), df))\n",
    "alpha = 0.05\n",
    "if p_value < alpha:\n",
    "    print(\"Reject null hypothesis. The new drug decreases blood pressure significianty.\")\n",
    "else:\n",
    "    print(\"Fail to reject null hypothesis. There is insufficent evidence to conclude that the new drug decreases blood pressure.\") "
   ]
  },
  {
   "cell_type": "markdown",
   "id": "41229a65-1b32-464d-a5d4-7057001bd737",
   "metadata": {},
   "source": [
    "Q15. An electronics company produces a certain type of product with a mean weight of 5 pounds and a\n",
    "standard deviation of 0.5 pounds. A random sample of 25 products is taken, and the sample mean weight\n",
    "is found to be 4.8 pounds. Test the hypothesis that the true mean weight of the products is less than 5\n",
    "pounds with a significance level of 0.01."
   ]
  },
  {
   "cell_type": "code",
   "execution_count": 5,
   "id": "2a754cd7-73d2-4a3a-84fb-6cf23a6bd6ad",
   "metadata": {},
   "outputs": [
    {
     "name": "stdout",
     "output_type": "stream",
     "text": [
      "Fail to reject null hypothesis. There is insufficent evidence to conclude true mean weight of the productsisless than 5 pounds.\n"
     ]
    }
   ],
   "source": [
    "import numpy as np\n",
    "from scipy import stats\n",
    "sample_mean = 4.8\n",
    "hypothesized_mean = 5\n",
    "sample_std = 0.5\n",
    "sample_size = 25\n",
    "t = (sample_mean - hypothesized_mean) /(sample_std / np.sqrt(sample_size))\n",
    "df = sample_size - 1\n",
    "p_value = 1- stats.t.cdf(t, df)\n",
    "alpha = 0.01\n",
    "if p_value < alpha:\n",
    "    print(\"Reject null hypothesis. The true mean weight of the products is less than 5 pounds.\")\n",
    "else:\n",
    "    print(\"Fail to reject null hypothesis. There is insufficent evidence to conclude true mean weight of the productsisless than 5 pounds.\") "
   ]
  },
  {
   "cell_type": "markdown",
   "id": "35065145-ee7f-4c6e-b2a9-28969f721494",
   "metadata": {},
   "source": [
    "Q16. Two groups of students are given different study materials to prepare for a test. The first group (n1 =\n",
    "30) has a mean score of 80 with a standard deviation of 10, and the second group (n2 = 40) has a mean\n",
    "score of 75 with a standard deviation of 8. Test the hypothesis that the population means for the two\n",
    "groups are equal with a significance level of 0.01."
   ]
  },
  {
   "cell_type": "code",
   "execution_count": 8,
   "id": "87f5e31c-973b-46d9-80ee-8d0576872fd6",
   "metadata": {},
   "outputs": [
    {
     "name": "stdout",
     "output_type": "stream",
     "text": [
      "Reject null hypothesis. The population mean for the two groups are not equal.\n"
     ]
    }
   ],
   "source": [
    "import numpy as np\n",
    "from scipy import stats\n",
    "sample_mean1 = 80\n",
    "sample_std1 = 10\n",
    "sample_size1 = 30\n",
    "sample_mean2 = 75\n",
    "sample_std2 = 8\n",
    "sample_size2 = 240\n",
    "t, p_value = stats.ttest_ind_from_stats(sample_mean1 , sample_std1, sample_size1,\n",
    "                                        sample_mean2, sample_std2, sample_size2)\n",
    "alpha = 0.01\n",
    "if p_value < alpha:\n",
    "    print(\"Reject null hypothesis. The population mean for the two groups are not equal.\")\n",
    "else:\n",
    "    print(\"Fail to reject null hypothesis. There is insufficent evidence to conclude means for the two groups are not equal.\") "
   ]
  },
  {
   "cell_type": "markdown",
   "id": "3e0dc63c-2b80-4fb9-ac9f-f94a47523bad",
   "metadata": {},
   "source": [
    "Q17. A marketing company wants to estimate the average number of ads watched by viewers during a TV\n",
    "program. They take a random sample of 50 viewers and find that the sample mean is 4 with a standard\n",
    "deviation of 1.5. Estimate the population mean with a 99% confidence interval"
   ]
  },
  {
   "cell_type": "code",
   "execution_count": 15,
   "id": "47a1f1b0-521a-4a45-9a89-83968ff2c08a",
   "metadata": {},
   "outputs": [
    {
     "name": "stdout",
     "output_type": "stream",
     "text": [
      "Sample Mean: 50\n",
      " Standard Error of the Mean(SEM): 0.21\n",
      " Margin of Error: 0.57\n",
      " 95% Confidence Interval:  49.43 to  50.57\n"
     ]
    }
   ],
   "source": [
    "import numpy as np\n",
    "from scipy.stats import t\n",
    "sample_mean = 50\n",
    "sample_std= 1.5\n",
    "sample_size = 50\n",
    "df = sample_size - 1\n",
    "sem = sample_std / np.sqrt(sample_size)\n",
    "t_score = t.ppf(0.995, df)\n",
    "margin_of_error = t_score * sem\n",
    "lower_bound = sample_mean - margin_of_error\n",
    "upper_bound = sample_mean + margin_of_error\n",
    "print(f\"Sample Mean: {sample_mean}\")\n",
    "print(f\" Standard Error of the Mean(SEM): {sem:.2f}\")\n",
    "print(f\" Margin of Error: {margin_of_error:.2f}\")\n",
    "print(f\" 95% Confidence Interval: {lower_bound: .2f} to {upper_bound: .2f}\")"
   ]
  },
  {
   "cell_type": "code",
   "execution_count": null,
   "id": "ea84fa13-078b-48e2-995d-7e1a7f71167d",
   "metadata": {},
   "outputs": [],
   "source": []
  }
 ],
 "metadata": {
  "kernelspec": {
   "display_name": "Python 3 (ipykernel)",
   "language": "python",
   "name": "python3"
  },
  "language_info": {
   "codemirror_mode": {
    "name": "ipython",
    "version": 3
   },
   "file_extension": ".py",
   "mimetype": "text/x-python",
   "name": "python",
   "nbconvert_exporter": "python",
   "pygments_lexer": "ipython3",
   "version": "3.10.8"
  }
 },
 "nbformat": 4,
 "nbformat_minor": 5
}
