{
 "cells": [
  {
   "cell_type": "code",
   "execution_count": 2,
   "id": "fcd43af5-6f6a-4e7e-a580-262d6df75caa",
   "metadata": {},
   "outputs": [
    {
     "name": "stdout",
     "output_type": "stream",
     "text": [
      "Requirement already satisfied: pandas in /opt/conda/lib/python3.10/site-packages (1.5.2)\n",
      "Requirement already satisfied: python-dateutil>=2.8.1 in /opt/conda/lib/python3.10/site-packages (from pandas) (2.8.2)\n",
      "Requirement already satisfied: pytz>=2020.1 in /opt/conda/lib/python3.10/site-packages (from pandas) (2022.6)\n",
      "Requirement already satisfied: numpy>=1.21.0 in /opt/conda/lib/python3.10/site-packages (from pandas) (1.23.5)\n",
      "Requirement already satisfied: six>=1.5 in /opt/conda/lib/python3.10/site-packages (from python-dateutil>=2.8.1->pandas) (1.16.0)\n",
      "Note: you may need to restart the kernel to use updated packages.\n"
     ]
    }
   ],
   "source": [
    "pip install pandas"
   ]
  },
  {
   "cell_type": "markdown",
   "id": "03ecc7f2-62cd-4824-92f6-936fe20e4b30",
   "metadata": {},
   "source": [
    "Q1. Create a pandas series that contains the following data : 4,8,15,16,23and 42.then print the series."
   ]
  },
  {
   "cell_type": "code",
   "execution_count": 2,
   "id": "c9fa7059-70c7-4f88-a28a-18398e01a3a5",
   "metadata": {},
   "outputs": [
    {
     "name": "stdout",
     "output_type": "stream",
     "text": [
      "0     4\n",
      "1     8\n",
      "2    15\n",
      "3    16\n",
      "4    23\n",
      "5    42\n",
      "dtype: int64\n"
     ]
    }
   ],
   "source": [
    "import pandas as pd\n",
    "data = [4,8,15,16,23,42]\n",
    "series= pd.Series(data)\n",
    "print(series)"
   ]
  },
  {
   "cell_type": "markdown",
   "id": "b88f097f-12ce-4679-b469-935966bac213",
   "metadata": {},
   "source": [
    "Q2. Create a variable of list type containing 10 elements in it, and apply pandas.Series function on the\n",
    "variable print it."
   ]
  },
  {
   "cell_type": "code",
   "execution_count": 5,
   "id": "c8b00ad1-027c-4bf7-8d0c-86022d4113b9",
   "metadata": {},
   "outputs": [
    {
     "name": "stdout",
     "output_type": "stream",
     "text": [
      "0     1\n",
      "1     2\n",
      "2     3\n",
      "3     4\n",
      "4     5\n",
      "5     6\n",
      "6     7\n",
      "7     8\n",
      "8     9\n",
      "9    10\n",
      "dtype: int64\n"
     ]
    }
   ],
   "source": [
    "import pandas as pd\n",
    "my_list = [1,2,3,4,5,6,7,8,9,10]\n",
    "my_series = pd.Series(my_list)\n",
    "print(my_series)"
   ]
  },
  {
   "cell_type": "markdown",
   "id": "349140b6-84a6-4952-b889-3ae03e1577d2",
   "metadata": {},
   "source": [
    "Q3. Create a Pandas DataFrame that contains the following data:"
   ]
  },
  {
   "cell_type": "code",
   "execution_count": 6,
   "id": "37492b70-89ed-4a02-a19c-75b1f48f26d5",
   "metadata": {},
   "outputs": [
    {
     "name": "stdout",
     "output_type": "stream",
     "text": [
      "     Name  Age  Gender\n",
      "0   Alice   25  Female\n",
      "1     Bob   30    Male\n",
      "2  Claire   27  Female\n"
     ]
    }
   ],
   "source": [
    "import pandas as pd\n",
    "df = pd.DataFrame({'Name': ['Alice' ,'Bob', 'Claire'] ,'Age': [25,30,27], 'Gender': ['Female', 'Male','Female']})\n",
    "print(df)\n",
    "                                                                                     "
   ]
  },
  {
   "cell_type": "markdown",
   "id": "1a45f9e7-65a8-4088-b33b-79f15220ea58",
   "metadata": {},
   "source": [
    "Q4. What is ‘DataFrame’ in pandas and how is it different from pandas.series? Explain with an example."
   ]
  },
  {
   "cell_type": "markdown",
   "id": "fb1abf49-8254-459a-9553-a36611a282c3",
   "metadata": {},
   "source": [
    "In pandas , a dataframe is a two  dimensonal labeled structure with coloumns of potentially different data types. it is similar to a \n",
    "spreadsheet or a sql table ,where each column can have a different data type . it is the most commonly used pandas object and is used for data manipulation, cleaning, analysis, and visulization."
   ]
  },
  {
   "cell_type": "code",
   "execution_count": 9,
   "id": "e45cdecb-85cb-45b3-ab53-edf9c64dab4b",
   "metadata": {},
   "outputs": [
    {
     "name": "stdout",
     "output_type": "stream",
     "text": [
      "0    10\n",
      "1    20\n",
      "2    30\n",
      "3    40\n",
      "4    50\n",
      "Name: number, dtype: int64\n",
      "\n",
      "      Name  Age  Salary\n",
      "0  shekhar   40    5000\n",
      "1      Raj   30   10000\n",
      "2     Tony   28   15000\n",
      "3    Steve   50   12000\n"
     ]
    }
   ],
   "source": [
    "#Example\n",
    "import pandas as pd\n",
    "my_series = pd.Series([10,20,30,40,50], name= 'number')\n",
    "my_dataframe = pd.DataFrame({\n",
    "    'Name': [\"shekhar\", \"Raj\", \"Tony\" ,\"Steve\"],\n",
    "    \"Age\": [ 40,30,28,50],\n",
    "    \"Salary\" : [ 5000, 10000, 15000 , 12000]\n",
    "})\n",
    "print(my_series)\n",
    "print()\n",
    "print(my_dataframe)"
   ]
  },
  {
   "cell_type": "markdown",
   "id": "120b093a-2731-4357-b55a-7c2be2c5a9f9",
   "metadata": {},
   "source": [
    "Q5. What are some common function you can use to mainuplate data in pandas DataFrame? can you give an example of when you miight use one of these function?"
   ]
  },
  {
   "cell_type": "markdown",
   "id": "8ccba22c-b499-4c3b-be6f-7d9f9abe6477",
   "metadata": {},
   "source": [
    "pandas provide a wide range of function for mainuplating and transforming data in a Data frame.\n",
    "1. head() and tail() - These function are used to display the first and last few rows of a DataFrame, respectively.\n",
    "2. describe() - This function is used to generate desprective statistics for the data in a DataFrame. It calculates things like the mean , standard,\n",
    "deviation , minium, and maximum values for each column."
   ]
  },
  {
   "cell_type": "code",
   "execution_count": 1,
   "id": "8973ee15-13f5-41ff-948d-763b486bf1d7",
   "metadata": {},
   "outputs": [
    {
     "name": "stdout",
     "output_type": "stream",
     "text": [
      "  name  age\n",
      "0  Raj   25\n",
      "1  Bob   30\n",
      "      name  age\n",
      "2  Charlie   35\n"
     ]
    }
   ],
   "source": [
    "#Example head and tail\n",
    "import pandas as pd\n",
    "df = pd.DataFrame({'name': ['Raj', 'Bob', 'Charlie'], 'age': [25,30,35]})\n",
    "print(df.head(2))\n",
    "print(df.tail(1))"
   ]
  },
  {
   "cell_type": "code",
   "execution_count": 2,
   "id": "c72eba92-b52d-4054-89d0-8990f8877637",
   "metadata": {},
   "outputs": [
    {
     "name": "stdout",
     "output_type": "stream",
     "text": [
      "             age\n",
      "count   4.000000\n",
      "mean   29.250000\n",
      "std     7.889867\n",
      "min    22.000000\n",
      "25%    24.250000\n",
      "50%    27.500000\n",
      "75%    32.500000\n",
      "max    40.000000\n"
     ]
    }
   ],
   "source": [
    "#Example describe\n",
    "import pandas as pd\n",
    "df = pd.DataFrame({\n",
    "    \"name\": [\"Raj\" , \"Sekhar\" , \"vinod\", \"Abhay\"],\n",
    "    \"age\" : [25,22,30,40]\n",
    "})\n",
    "print(df.describe())"
   ]
  },
  {
   "cell_type": "markdown",
   "id": "aa851f9d-6e3d-42b7-9874-5beed7750e93",
   "metadata": {},
   "source": [
    "Q6. Which of the following is mutable in nature series , DataFrame,panel?"
   ]
  },
  {
   "cell_type": "markdown",
   "id": "a337b0f6-f342-4b02-859d-5be033d16fb9",
   "metadata": {},
   "source": [
    "A Pandas DataFrame and panel are mutable in nature while a series is immutable."
   ]
  },
  {
   "cell_type": "markdown",
   "id": "a8d40dae-0803-4e19-abae-9459e959a0ac",
   "metadata": {},
   "source": [
    "Q7. Create a DataFrame using multiple series . explain with an example."
   ]
  },
  {
   "cell_type": "code",
   "execution_count": 7,
   "id": "7554c434-1235-4d53-af99-22d81bf7fd26",
   "metadata": {},
   "outputs": [
    {
     "name": "stdout",
     "output_type": "stream",
     "text": [
      "       Name  Classes\n",
      "0    Sekhar       10\n",
      "1     Vinod       12\n",
      "2  Abhishek       11\n"
     ]
    }
   ],
   "source": [
    "import pandas as pd\n",
    "name = pd.Series([\"Sekhar\", \"Vinod\", \"Abhishek\"])\n",
    "Class = pd.Series([10,12,11])\n",
    "df = pd.DataFrame({\"Name\": name, \"Classes\": Class})\n",
    "print(df)"
   ]
  },
  {
   "cell_type": "code",
   "execution_count": null,
   "id": "a49524d2-e732-4b7e-b76f-3ccae2a97535",
   "metadata": {},
   "outputs": [],
   "source": []
  }
 ],
 "metadata": {
  "kernelspec": {
   "display_name": "Python 3 (ipykernel)",
   "language": "python",
   "name": "python3"
  },
  "language_info": {
   "codemirror_mode": {
    "name": "ipython",
    "version": 3
   },
   "file_extension": ".py",
   "mimetype": "text/x-python",
   "name": "python",
   "nbconvert_exporter": "python",
   "pygments_lexer": "ipython3",
   "version": "3.10.8"
  }
 },
 "nbformat": 4,
 "nbformat_minor": 5
}
