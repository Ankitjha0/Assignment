{
 "cells": [
  {
   "cell_type": "markdown",
   "id": "3ba78ccb-1d11-40df-b445-735110a3ad5f",
   "metadata": {},
   "source": [
    "Q1. You are writing code for a company. The requirement of the company is that you create a python\n",
    "function that will check whether the password entered by the user is correct or not. The function should\n",
    "take the password as input and return the string “Valid Password” if the entered password follows the\n",
    "below-given password guidelines else it should return “Invalid Password”.\n",
    "\n",
    "\n",
    "Note: 1. The Password should contain at least two uppercase letters and at least two lowercase letters.\n",
    "\n",
    "2. The Password should contain at least a number and three special characters.\n",
    "\n",
    "3. The length of the password should be 10 characters long."
   ]
  },
  {
   "cell_type": "code",
   "execution_count": 22,
   "id": "27874401-96a0-4842-9c88-47c12c1c82c6",
   "metadata": {},
   "outputs": [
    {
     "name": "stdout",
     "output_type": "stream",
     "text": [
      "valid password\n"
     ]
    }
   ],
   "source": [
    "def check_password(password):\n",
    "    if len(password) != 10:\n",
    "        return \"invalid password\"\n",
    "    num_uppercase = 0\n",
    "    num_lowercase = 0\n",
    "    for d in password:\n",
    "        if d.isupper():\n",
    "            num_uppercase += 1\n",
    "        elif d.islower():\n",
    "            num_lowercase += 1\n",
    "    if num_uppercase <2 or num_lowercase <2:\n",
    "        return \"invalid password\"\n",
    "    num_digit = 0\n",
    "    num_special = 0\n",
    "    for d in password:\n",
    "        if d.isdigit():\n",
    "            num_digit += 1\n",
    "        elif d.isalnum():\n",
    "            num_special += 1\n",
    "    if num_digit < 1 or num_special < 3:\n",
    "        return \"invalid message\"\n",
    "    return \"valid password\"\n",
    "print(check_password(\"ANKitj2@$!\"))"
   ]
  },
  {
   "cell_type": "markdown",
   "id": "3723dfe4-3942-421c-916b-9f772698b15a",
   "metadata": {},
   "source": [
    "Q2. Solve the below-given questions using at least one of the following: \n",
    "\n",
    "1. Lambda functio\n",
    "2. Filter functio\n",
    "3. map functio\n",
    "4. List Comprehension\n",
    "\n",
    ". Check if the string starts with a particular letter\n",
    "\n",
    ". Check if the string is numeric\n",
    "\n",
    ".Sort a list of tuples having fruit names and their quantity. [(\"mango\",99),(\"orange\",80), (\"grapes\", 1000)-\n",
    "\n",
    ". Find the squares of numbers from 1 to 10Y\n",
    "\n",
    ". Find the cube root of numbers from 1 to 10Y\n",
    "\n",
    ". Check if a given number is evenY\n",
    "\n",
    ". Filter odd numbers from the given list. [1,2,3,4,5,6,7,8,9,10]\n",
    "\n",
    ". Sort a list of integers into positive and negative integers lists.\n",
    " [1,2,3,4,5,6,-1,-2,-3,-4,-5,0]"
   ]
  },
  {
   "cell_type": "code",
   "execution_count": 1,
   "id": "c4ffa953-45fd-4de8-b579-c712989bf479",
   "metadata": {},
   "outputs": [
    {
     "name": "stdout",
     "output_type": "stream",
     "text": [
      "['apple', 'avocados']\n"
     ]
    }
   ],
   "source": [
    "###Check if the string starts with a particular letter\n",
    "strings = [\"apple\" , \"bannana\" , \"grapes\", \"avocados\"]\n",
    "letter = 'a'\n",
    "## using lambda function \n",
    "result = list(filter(lambda x: x.startswith(letter), strings))\n",
    "print(result)"
   ]
  },
  {
   "cell_type": "code",
   "execution_count": 6,
   "id": "76adea8b-de90-4adf-8001-55878a2de3be",
   "metadata": {},
   "outputs": [
    {
     "name": "stdout",
     "output_type": "stream",
     "text": [
      "True\n"
     ]
    }
   ],
   "source": [
    "###Check if the string is numeric\n",
    "string = \"123\"\n",
    "check_numeric = lambda x: x.isdigit()\n",
    "print(check_numeric(string))"
   ]
  },
  {
   "cell_type": "code",
   "execution_count": 11,
   "id": "41be978c-c626-4857-a809-96b29c3cdfcb",
   "metadata": {},
   "outputs": [
    {
     "name": "stdout",
     "output_type": "stream",
     "text": [
      "[('orange', 80), ('mango', 99), ('grapes', 1000)]\n"
     ]
    }
   ],
   "source": [
    "##Sort a list of tuples having fruit names and their quantity. [(\"mango\",99),(\"orange\",80), (\"grapes\", 1000)]\n",
    "fruits =  [(\"mango\",99),(\"orange\",80), (\"grapes\", 1000)]\n",
    "### using sorted and lambda function \n",
    "sorted_fruits = sorted(fruits,key= lambda x: x[1])\n",
    "print(sorted_fruits)"
   ]
  },
  {
   "cell_type": "code",
   "execution_count": 12,
   "id": "07714cac-bbb1-42f3-8632-b7f6881a33dc",
   "metadata": {},
   "outputs": [
    {
     "data": {
      "text/plain": [
       "[1, 4, 9, 16, 25, 36, 49, 64, 81, 100]"
      ]
     },
     "execution_count": 12,
     "metadata": {},
     "output_type": "execute_result"
    }
   ],
   "source": [
    "##Find the squares of numbers from 1 to 10\n",
    "l = [1,2,3,4,5,6,7,8,9,10]\n",
    "list(map(lambda x: x**2, l))"
   ]
  },
  {
   "cell_type": "code",
   "execution_count": 13,
   "id": "016a94ab-cea1-4afe-8d02-bd653fb4b569",
   "metadata": {},
   "outputs": [
    {
     "data": {
      "text/plain": [
       "[1, 8, 27, 64, 125, 216, 343, 512, 729, 1000]"
      ]
     },
     "execution_count": 13,
     "metadata": {},
     "output_type": "execute_result"
    }
   ],
   "source": [
    "##Find the cube root of numbers from 1 to 10\n",
    "l = [1,2,3,4,5,6,7,8,9,10]\n",
    "list(map(lambda x : x**3 , l))"
   ]
  },
  {
   "cell_type": "code",
   "execution_count": 20,
   "id": "95730278-fff4-42f1-8710-fb9f12d56479",
   "metadata": {},
   "outputs": [
    {
     "name": "stdout",
     "output_type": "stream",
     "text": [
      "Even number is : [2, 4, 6, 8, 10]\n"
     ]
    }
   ],
   "source": [
    "##Check if a given number is even\n",
    "numbers = [1,2,3,4,5,6,7,8,9,10]\n",
    "even_number = [num for num in numbers if num % 2 == 0]\n",
    "print(\"Even number is :\" , even_number)"
   ]
  },
  {
   "cell_type": "code",
   "execution_count": 23,
   "id": "748f250b-ea9e-4ad1-8982-e7aed6c8ebbf",
   "metadata": {},
   "outputs": [
    {
     "name": "stdout",
     "output_type": "stream",
     "text": [
      "Odd Number is: [1, 3, 5, 7, 9]\n"
     ]
    }
   ],
   "source": [
    "##Filter odd numbers from the given list.[1,2,3,4,5,6,7,8,9,10]\n",
    "l= [1,2,3,4,5,6,7,8,9,10]\n",
    "odd_number = list(filter(lambda x: x%2 !=0 , l))\n",
    "print(\"Odd Number is:\" , odd_number)"
   ]
  },
  {
   "cell_type": "code",
   "execution_count": 24,
   "id": "b5b6dccd-ddfd-4ec8-90b7-61c92bd7096c",
   "metadata": {},
   "outputs": [
    {
     "name": "stdout",
     "output_type": "stream",
     "text": [
      "Positive integers list is : [1, 2, 3, 4, 5, 6]\n",
      "Negative interger list is :  [-1, -2, -3, -4, -5]\n"
     ]
    }
   ],
   "source": [
    "##Sort a list of integers into positive and negative integers lists.[1,2,3,4,5,6,-1,-2,-3,-4,-5,0]\n",
    "num_lst = [ 1,2,3,4,5,6,-1,-2,-3,-4,-5,0]\n",
    "pos_lst= list(filter(lambda x: x>0 , num_lst))\n",
    "neg_lst = list(filter(lambda x: x<0 , num_lst))\n",
    "print(\"Positive integers list is :\" ,pos_lst)\n",
    "print(\"Negative interger list is : \" , neg_lst)"
   ]
  },
  {
   "cell_type": "code",
   "execution_count": null,
   "id": "c70c224e-8527-4888-aac0-6c29a12254d3",
   "metadata": {},
   "outputs": [],
   "source": []
  }
 ],
 "metadata": {
  "kernelspec": {
   "display_name": "Python 3 (ipykernel)",
   "language": "python",
   "name": "python3"
  },
  "language_info": {
   "codemirror_mode": {
    "name": "ipython",
    "version": 3
   },
   "file_extension": ".py",
   "mimetype": "text/x-python",
   "name": "python",
   "nbconvert_exporter": "python",
   "pygments_lexer": "ipython3",
   "version": "3.10.8"
  }
 },
 "nbformat": 4,
 "nbformat_minor": 5
}
