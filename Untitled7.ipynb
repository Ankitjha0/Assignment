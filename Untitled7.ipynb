{
 "cells": [
  {
   "cell_type": "code",
   "execution_count": 12,
   "id": "cd79952e-67b5-4187-b667-2e74e6d566e8",
   "metadata": {},
   "outputs": [
    {
     "data": {
      "text/plain": [
       "[2, 4, 6, 8, 10, 12, 14, 16, 18, 20, 22, 24]"
      ]
     },
     "execution_count": 12,
     "metadata": {},
     "output_type": "execute_result"
    }
   ],
   "source": [
    "###Q1which keyword is used to create a function ? create a funcrion to return a list of odd numbers in the range of 1 to 25.\n",
    "def odd_number():\n",
    "    odd_num=[]\n",
    "    for i in range(1,25):\n",
    "        if i % 2 == 0:\n",
    "            odd_num.append(i)\n",
    "    return odd_num \n",
    "odd_number()"
   ]
  },
  {
   "cell_type": "code",
   "execution_count": 8,
   "id": "6b856d67-69a0-46ef-b84a-8dbd73ffc1a5",
   "metadata": {},
   "outputs": [
    {
     "name": "stdout",
     "output_type": "stream",
     "text": [
      "10\n",
      "320\n",
      "name: Ankit\n",
      "age: 23\n",
      "city: Madhubani\n"
     ]
    }
   ],
   "source": [
    "###why *args and **kwargsis used in some function?create a function each and *args and **kwargs to demonstate their use.\n",
    "###The use of *args and **kwargs in function allows for greater flexbibility when defing function that can take a variable number of arguments.\n",
    "def calculate_sum(*args):\n",
    "    total =0\n",
    "    for num in args:\n",
    "        total += num\n",
    "    return total\n",
    "print(calculate_sum(1,2,3,4))\n",
    "print(calculate_sum(10,98,12,200))\n",
    "def print_kwargs(**kwargs):\n",
    "    for key, value in kwargs.items():\n",
    "        print(f\"{key}: {value}\")\n",
    "print_kwargs(name=\"Ankit\",age=23,city=\"Madhubani\")        "
   ]
  },
  {
   "cell_type": "code",
   "execution_count": 11,
   "id": "e4d80721-ff65-45cf-9d3d-319e1b6cf824",
   "metadata": {},
   "outputs": [
    {
     "name": "stdout",
     "output_type": "stream",
     "text": [
      "2\n",
      "4\n",
      "6\n",
      "8\n",
      "10\n"
     ]
    }
   ],
   "source": [
    "###Q3 what is an itreator in python ? name the method used to initialise the iterator object and the method used for iteration. use these methods to print the firt five el \n",
    "my_list=[2,4,6,8,10,12,14,16,18,20]\n",
    "my_itreator= iter(my_list)\n",
    "for i in range(5):\n",
    "    print(next(my_itreator))"
   ]
  },
  {
   "cell_type": "code",
   "execution_count": 7,
   "id": "5a108be6-b022-4f61-95a1-8bf42d07d185",
   "metadata": {},
   "outputs": [],
   "source": [
    "###q4 What is a genrator function in python ? why yield keyword is used ? Give an Example of a Genarator function..\n",
    "###Answer - In python, a genrator function is a special type of function that can be used to create a iterator..\n",
    "###Answer - That yield keyword will convert an expression that is specified along with it to a generator object and return it to the caller.\n",
    "def fibonacci(n):\n",
    "    a,b = 2,3\n",
    "    for i in range(n):\n",
    "        yield a\n",
    "        a,b=b,a+b"
   ]
  },
  {
   "cell_type": "code",
   "execution_count": 9,
   "id": "735cf9b2-df09-4556-88db-417eb562d61d",
   "metadata": {},
   "outputs": [
    {
     "name": "stdout",
     "output_type": "stream",
     "text": [
      "2\n",
      "3\n",
      "5\n",
      "8\n",
      "13\n",
      "21\n",
      "34\n",
      "55\n",
      "89\n",
      "144\n",
      "233\n",
      "377\n"
     ]
    }
   ],
   "source": [
    "for num in fibonacci(12):\n",
    "    print(num)"
   ]
  },
  {
   "cell_type": "code",
   "execution_count": 11,
   "id": "52881035-8168-488f-bed1-4d87487db484",
   "metadata": {},
   "outputs": [
    {
     "name": "stdout",
     "output_type": "stream",
     "text": [
      "2\n",
      "3\n",
      "5\n",
      "7\n",
      "11\n",
      "13\n",
      "17\n",
      "19\n",
      "23\n",
      "29\n",
      "31\n",
      "37\n",
      "41\n",
      "43\n",
      "47\n",
      "53\n",
      "59\n",
      "61\n",
      "67\n",
      "71\n"
     ]
    }
   ],
   "source": [
    "###Q5create a generator function for prime number less then 1000.use the next() method print the first 20 prime numbers..\n",
    "def gen_primes():\n",
    "    primes = []\n",
    "    num = 2\n",
    "    while num < 1000:\n",
    "        if all(num % i != 0 for i in primes):\n",
    "            primes.append(num)\n",
    "            yield num\n",
    "        num += 1\n",
    "prime_generator = gen_primes()\n",
    "for i in range(20):\n",
    "    print(next(prime_generator))\n"
   ]
  },
  {
   "cell_type": "code",
   "execution_count": 12,
   "id": "2e350da0-f954-43a1-b8a7-34be2dc89809",
   "metadata": {},
   "outputs": [
    {
     "name": "stdout",
     "output_type": "stream",
     "text": [
      "0\n",
      "1\n",
      "1\n",
      "2\n",
      "3\n",
      "5\n",
      "8\n",
      "13\n",
      "21\n",
      "34\n"
     ]
    }
   ],
   "source": [
    "####Q6 write a python program to print the first 10 fibonacci number using the while loop \n",
    "a,b = 0,1\n",
    "count = 0\n",
    "while count<10:\n",
    "    print (a)\n",
    "    c = a+b\n",
    "    a= b\n",
    "    b = c\n",
    "    count += 1"
   ]
  },
  {
   "cell_type": "code",
   "execution_count": 14,
   "id": "eff2f648-9713-4f98-9040-676596280662",
   "metadata": {},
   "outputs": [
    {
     "name": "stdout",
     "output_type": "stream",
     "text": [
      "['p', 'w', 's', 'k', 'i', 'l', 'l', 's']\n"
     ]
    }
   ],
   "source": [
    "###Q7  write a list compreshion to iterate through the given string:'pwskills'.expected output['p','w','s','k','i','l','l','s\n",
    "string = \"pwskills\"\n",
    "output_list = [char for char in string]\n",
    "print(output_list)"
   ]
  },
  {
   "cell_type": "code",
   "execution_count": 3,
   "id": "74bc35be-a70c-4cb6-b9ea-cc20b846e03e",
   "metadata": {},
   "outputs": [
    {
     "name": "stdin",
     "output_type": "stream",
     "text": [
      "enter a number: 10\n"
     ]
    },
    {
     "name": "stdout",
     "output_type": "stream",
     "text": [
      "10 is a palindrome number\n"
     ]
    }
   ],
   "source": [
    "##q8 Write a python program to check whether a given number is palindrome or not using a while loop.\n",
    "num = int(input(\"enter a number:\"))\n",
    "temp = num\n",
    "rev_num = 0\n",
    "while temp > 0:\n",
    "    rev_num = rev_num*10+temp % 10\n",
    "    temp = temp // 10\n",
    "if num == rev_num :\n",
    "    print(num, \"is a palindrome number\")\n",
    "else:\n",
    "    print(num, \"is a palindrome number\")"
   ]
  },
  {
   "cell_type": "code",
   "execution_count": 5,
   "id": "f8e5bbfd-92ac-431f-8d0a-877fb273fd5b",
   "metadata": {},
   "outputs": [
    {
     "data": {
      "text/plain": [
       "[1,\n",
       " 2,\n",
       " 3,\n",
       " 4,\n",
       " 5,\n",
       " 6,\n",
       " 7,\n",
       " 8,\n",
       " 9,\n",
       " 10,\n",
       " 11,\n",
       " 12,\n",
       " 13,\n",
       " 14,\n",
       " 15,\n",
       " 16,\n",
       " 17,\n",
       " 18,\n",
       " 19,\n",
       " 20,\n",
       " 21,\n",
       " 22,\n",
       " 23,\n",
       " 24,\n",
       " 25,\n",
       " 26,\n",
       " 27,\n",
       " 28,\n",
       " 29,\n",
       " 30,\n",
       " 31,\n",
       " 32,\n",
       " 33,\n",
       " 34,\n",
       " 35,\n",
       " 36,\n",
       " 37,\n",
       " 38,\n",
       " 39,\n",
       " 40,\n",
       " 41,\n",
       " 42,\n",
       " 43,\n",
       " 44,\n",
       " 45,\n",
       " 46,\n",
       " 47,\n",
       " 48,\n",
       " 49,\n",
       " 50,\n",
       " 51,\n",
       " 52,\n",
       " 53,\n",
       " 54,\n",
       " 55,\n",
       " 56,\n",
       " 57,\n",
       " 58,\n",
       " 59,\n",
       " 60,\n",
       " 61,\n",
       " 62,\n",
       " 63,\n",
       " 64,\n",
       " 65,\n",
       " 66,\n",
       " 67,\n",
       " 68,\n",
       " 69,\n",
       " 70,\n",
       " 71,\n",
       " 72,\n",
       " 73,\n",
       " 74,\n",
       " 75,\n",
       " 76,\n",
       " 77,\n",
       " 78,\n",
       " 79,\n",
       " 80,\n",
       " 81,\n",
       " 82,\n",
       " 83,\n",
       " 84,\n",
       " 85,\n",
       " 86,\n",
       " 87,\n",
       " 88,\n",
       " 89,\n",
       " 90,\n",
       " 91,\n",
       " 92,\n",
       " 93,\n",
       " 94,\n",
       " 95,\n",
       " 96,\n",
       " 97,\n",
       " 98,\n",
       " 99,\n",
       " 100]"
      ]
     },
     "execution_count": 5,
     "metadata": {},
     "output_type": "execute_result"
    }
   ],
   "source": [
    "###Q9 write a  code to print odd numbers from 1 to 100 using list compreshion\n",
    "[num for num in range(1,101)]\n"
   ]
  },
  {
   "cell_type": "code",
   "execution_count": null,
   "id": "a89c00bd-06f7-494e-9171-6fe0d98ff1f2",
   "metadata": {},
   "outputs": [],
   "source": []
  }
 ],
 "metadata": {
  "kernelspec": {
   "display_name": "Python 3 (ipykernel)",
   "language": "python",
   "name": "python3"
  },
  "language_info": {
   "codemirror_mode": {
    "name": "ipython",
    "version": 3
   },
   "file_extension": ".py",
   "mimetype": "text/x-python",
   "name": "python",
   "nbconvert_exporter": "python",
   "pygments_lexer": "ipython3",
   "version": "3.10.8"
  }
 },
 "nbformat": 4,
 "nbformat_minor": 5
}
