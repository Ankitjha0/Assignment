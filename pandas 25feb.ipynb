{
 "cells": [
  {
   "cell_type": "markdown",
   "id": "ec3310af-8995-4a6a-ad6b-9a1ed429c129",
   "metadata": {},
   "source": [
    "Q1. Write a code to print the data present in the second row of the dataframe, df."
   ]
  },
  {
   "cell_type": "code",
   "execution_count": 4,
   "id": "f8b0529c-6d24-4e09-b8da-8cf57e73898c",
   "metadata": {},
   "outputs": [
    {
     "name": "stdout",
     "output_type": "stream",
     "text": [
      "course_name    Machine Learning\n",
      "duration                      3\n",
      "Name: 1, dtype: object\n"
     ]
    }
   ],
   "source": [
    "import pandas as pd\n",
    "\n",
    "course_name = ['Data Science', 'Machine Learning', 'Big Data', 'Data Engineer']\n",
    "\n",
    "duration =  [2,3,6,4]\n",
    "\n",
    "df = pd.DataFrame(data = {'course_name' : course_name, 'duration' : duration})\n",
    "second_row = df.iloc[1]\n",
    "print(second_row)"
   ]
  },
  {
   "cell_type": "markdown",
   "id": "d1797827-fdb8-40ba-b35f-e0be72fc4065",
   "metadata": {},
   "source": [
    "\n",
    "Q2. What is the difference between the functions loc and iloc in pandas.DataFrame? "
   ]
  },
  {
   "cell_type": "markdown",
   "id": "0476d4f8-be59-416f-aab8-e0bdb13b11e7",
   "metadata": {},
   "source": [
    "Loc and iloc are two functions in Pandas that are used to slice a data set in a Pandas DataFrame. The function .loc is typically used for label indexing and can access multiple columns, while .iloc is used for integer indexing.   "
   ]
  },
  {
   "cell_type": "markdown",
   "id": "5bb14a07-eadb-4be2-8246-2485df348efd",
   "metadata": {
    "tags": []
   },
   "source": [
    "Q3. Reindex the given dataframe using a variable, reindex = [3,0,1,2] and store it in the variable, new_df\n",
    "then find the output for both new_df.loc[2] and new_df.iloc[2].\n",
    "Did you observe any difference in both the outputs? If so then explain it.\n",
    "\n",
    "Consider the below code to answer further questions:\n",
    "    "
   ]
  },
  {
   "cell_type": "code",
   "execution_count": 5,
   "id": "eb3a9421-aa19-4258-a9ea-da897ede2def",
   "metadata": {},
   "outputs": [
    {
     "name": "stdout",
     "output_type": "stream",
     "text": [
      "Requirement already satisfied: numpy in /opt/conda/lib/python3.10/site-packages (1.23.5)\n",
      "Note: you may need to restart the kernel to use updated packages.\n"
     ]
    }
   ],
   "source": [
    "pip install numpy"
   ]
  },
  {
   "cell_type": "code",
   "execution_count": 2,
   "id": "d44524df-a7e7-4d92-a390-8edec9acf151",
   "metadata": {},
   "outputs": [
    {
     "name": "stdout",
     "output_type": "stream",
     "text": [
      "output for new_df.loc[2]:\n",
      "column_1    0.703895\n",
      "column_2    0.025574\n",
      "column_3    0.156025\n",
      "column_4    0.074513\n",
      "column_5    0.612852\n",
      "column_6    0.931838\n",
      "Name: 2, dtype: float64\n",
      "output for new_df.iloc[2]:\n",
      "column_1    0.673214\n",
      "column_2    0.547118\n",
      "column_3    0.229838\n",
      "column_4    0.091673\n",
      "column_5    0.667957\n",
      "column_6    0.609333\n",
      "Name: 1, dtype: float64\n"
     ]
    }
   ],
   "source": [
    "import pandas as pd\n",
    "\n",
    "import numpy as np\n",
    "\n",
    "columns = ['column_1', 'column_2', 'column_3', 'column_4', 'column_5', 'column_6']\n",
    "\n",
    "indices = [1,2,3,4,5,6]\n",
    "\n",
    "df1 = pd.DataFrame(np.random.rand(6,6), columns = columns, index = indices)\n",
    "reindex = [3,0,1,2]\n",
    "new_df = df1.reindex(reindex)\n",
    "output_loc = new_df.loc[2]\n",
    "print(\"output for new_df.loc[2]:\")\n",
    "print(output_loc)\n",
    "output_iloc = new_df.iloc[2]\n",
    "print(\"output for new_df.iloc[2]:\")\n",
    "print(output_iloc)"
   ]
  },
  {
   "cell_type": "markdown",
   "id": "3397b2ed-acc8-4f99-8998-be199ff70e8d",
   "metadata": {},
   "source": [
    "Q4. Write a code to find the following statistical measurements for the above dataframe df1:\n",
    "\n",
    "(i) \tmean of each and every column present in the dataframe.\n",
    "\n",
    "(ii) standard deviation of column, ‘column_2’\n",
    "\n",
    "\n"
   ]
  },
  {
   "cell_type": "code",
   "execution_count": 5,
   "id": "7e2a7b6a-f950-44c9-87c4-e17100d35730",
   "metadata": {},
   "outputs": [
    {
     "name": "stdout",
     "output_type": "stream",
     "text": [
      "Mean of each column:\n",
      "column_1    0.505560\n",
      "column_2    0.307917\n",
      "column_3    0.459342\n",
      "column_4    0.377494\n",
      "column_5    0.578443\n",
      "column_6    0.676397\n",
      "dtype: float64\n",
      "standard deviation of column 'column_2' :\n",
      "0.14021592565764332\n"
     ]
    }
   ],
   "source": [
    "import pandas as pd\n",
    "\n",
    "import numpy as np\n",
    "\n",
    "columns = ['column_1', 'column_2', 'column_3', 'column_4', 'column_5', 'column_6']\n",
    "\n",
    "indices = [1,2,3,4,5,6]\n",
    "df1 = pd.DataFrame(np.random.rand(6,6), columns = columns, index = indices)\n",
    "\n",
    "#(1) mean of each column\n",
    "column_mean = df1.mean()\n",
    "print(\"Mean of each column:\")\n",
    "print(column_mean)\n",
    "\n",
    "#(2)standard deviation of column 'column2'\n",
    "column_2_std = df1['column_2'].std()\n",
    "print(\"standard deviation of column 'column_2' :\")\n",
    "print(column_2_std)"
   ]
  },
  {
   "cell_type": "markdown",
   "id": "aed65980-bb28-4750-ad01-a8909c655b43",
   "metadata": {},
   "source": [
    "Q5. Replace the data present in the second row of column, ‘column_2’ by a string variable then find the\n",
    "mean of column, column_2.\n",
    "\n",
    "If you are getting errors in executing it then explain why.\n",
    "\n",
    "[Hint: To replace the data use df1.loc[] and equate this to string data of your choice.]"
   ]
  },
  {
   "cell_type": "code",
   "execution_count": 6,
   "id": "c3df57a3-5fe0-4c7f-91c1-8720c1608360",
   "metadata": {},
   "outputs": [
    {
     "name": "stdout",
     "output_type": "stream",
     "text": [
      "Mean of 'column_2':\n",
      "0.519257988275399\n"
     ]
    }
   ],
   "source": [
    "import pandas as pd\n",
    "import numpy as np\n",
    "\n",
    "columns = ['column_1', 'column_2', 'column_3', 'column_4', 'column_5', 'column_6']\n",
    "indices = [1, 2, 3, 4, 5, 6]\n",
    "df1 = pd.DataFrame(np.random.rand(6, 6), columns=columns, index=indices)\n",
    "df1.loc[2, 'column_2'] = np.nan  # Assigning NaN instead of a string value\n",
    "column_2_mean = df1['column_2'].mean()\n",
    "print(\"Mean of 'column_2':\")\n",
    "print(column_2_mean)"
   ]
  },
  {
   "cell_type": "markdown",
   "id": "86ea921e-b4fa-4186-8cd3-f6671aea961c",
   "metadata": {},
   "source": [
    "Q6. What do you understand about the windows function in pandas and list the types of windows\n",
    "functions?"
   ]
  },
  {
   "cell_type": "markdown",
   "id": "0b0e905c-8715-4d44-b617-5de845e18287",
   "metadata": {},
   "source": [
    "Windows function in Pandas can be broadly divided into three categories namely- Aggregate, Ranking, and Value. The group by aggregate function can be used to partition and group the entire data frame by some column. We can specify the column name in the parameter of the pandas"
   ]
  },
  {
   "cell_type": "markdown",
   "id": "45aa45a8-f7eb-4b98-b778-4adb0b617e8e",
   "metadata": {},
   "source": [
    "Q7. Write a code to print only the current month and year at the time of answering this question.\n",
    "\n",
    "[Hint: Use pandas.datetime function]"
   ]
  },
  {
   "cell_type": "code",
   "execution_count": 8,
   "id": "7b15219d-1ede-4a7f-9bd7-45ae7ba21105",
   "metadata": {},
   "outputs": [
    {
     "name": "stdout",
     "output_type": "stream",
     "text": [
      "Current Month: May\n",
      "Current Year: 2023\n"
     ]
    }
   ],
   "source": [
    "\n",
    "import pandas as pd\n",
    "from datetime import datetime\n",
    "\n",
    "current_datetime = datetime.now()\n",
    "current_month = current_datetime.strftime(\"%B\")  # Get the month name\n",
    "current_year = current_datetime.year\n",
    "\n",
    "print(\"Current Month:\", current_month)\n",
    "print(\"Current Year:\", current_year)"
   ]
  },
  {
   "cell_type": "markdown",
   "id": "f75945a8-c32b-4425-afe4-d8accef55356",
   "metadata": {},
   "source": [
    "Q8. Write a Python program that takes in two dates as input (in the format YYYY-MM-DD) and\n",
    "calculates the difference between them in days, hours, and minutes using Pandas time delta. The\n",
    "program should prompt the user to enter the dates and display the result."
   ]
  },
  {
   "cell_type": "code",
   "execution_count": 22,
   "id": "eda44811-68bb-42f8-adad-ceed22c9d58d",
   "metadata": {},
   "outputs": [
    {
     "name": "stdin",
     "output_type": "stream",
     "text": [
      "enter the first date(YYY-MM-DD):  05-06-2001\n",
      "enter the second date(YYY-MM-DD): 05-06-2023\n"
     ]
    },
    {
     "name": "stdout",
     "output_type": "stream",
     "text": [
      "Time difference:\n",
      "Days: 8035\n",
      "Hours: 0\n",
      "Minutes: 0\n"
     ]
    }
   ],
   "source": [
    "import pandas as pd \n",
    "date1 = input(\"enter the first date(YYY-MM-DD): \")\n",
    "date2 = input(\"enter the second date(YYY-MM-DD):\")\n",
    "date1 = pd.to_datetime(date1)\n",
    "date2 = pd.to_datetime(date2)\n",
    "time_difference = date2 - date1\n",
    "days = time_difference.days\n",
    "hours = time_difference.seconds // 3600\n",
    "minutes = (time_difference.seconds % 3600) // 60\n",
    "print(\"Time difference:\")\n",
    "print(f\"Days: {days}\")\n",
    "print(f\"Hours: {hours}\")\n",
    "print(f\"Minutes: {minutes}\")"
   ]
  },
  {
   "cell_type": "markdown",
   "id": "e2dd13bd-3624-4c42-bf40-a78911e27f2d",
   "metadata": {},
   "source": [
    "Q9. Write a Python program that reads a CSV file containing categorical data and converts a specified\n",
    "column to a categorical data type. The program should prompt the user to enter the file path, column\n",
    "name, and category order, and then display the sorted data."
   ]
  },
  {
   "cell_type": "code",
   "execution_count": 5,
   "id": "ea7624ad-35db-4bcd-ae66-e1b9abc9d88f",
   "metadata": {},
   "outputs": [
    {
     "name": "stdin",
     "output_type": "stream",
     "text": [
      "Enter the file path of the CSV file:  sales.data.csv\n",
      "Enter the column name to convert to categorical data type:  Category\n",
      "Enter the category order (comma-separated values):  .\n"
     ]
    },
    {
     "name": "stdout",
     "output_type": "stream",
     "text": [
      "   Sales        Date Category\n",
      "0     20  01-05-2023      NaN\n",
      "1     50  04-05-2023      NaN\n",
      "2     30  05-05-2023      NaN\n",
      "3     40  06-06-2023      NaN\n",
      "4     50  08-05-2023      NaN\n",
      "5     60  09-05-2023      NaN\n",
      "6     10  10,05,2023      NaN\n",
      "7     50  11-05-2023      NaN\n"
     ]
    }
   ],
   "source": [
    "import pandas as pd\n",
    "\n",
    "file_path = input(\"Enter the file path of the CSV file: \")\n",
    "column_name = input(\"Enter the column name to convert to categorical data type: \")\n",
    "category_order = input(\"Enter the category order (comma-separated values): \").split(',')\n",
    "\n",
    "data = pd.read_csv(file_path)\n",
    "data[column_name] = pd.Categorical(data[column_name], categories=category_order, ordered=True)\n",
    "sorted_data = data.sort_values(by=column_name)\n",
    "\n",
    "print(sorted_data)"
   ]
  },
  {
   "cell_type": "markdown",
   "id": "6535749f-d4b0-4b15-abfd-a092ab13ebbc",
   "metadata": {},
   "source": [
    "Q10. Write a Python program that reads a CSV file containing sales data for different products and\n",
    "visualizes the data using a stacked bar chart to show the sales of each product category over time. The\n",
    "program should prompt the user to enter the file path and display the chart"
   ]
  },
  {
   "cell_type": "code",
   "execution_count": 12,
   "id": "7f5f99f5-84bb-408f-8861-c17dafbc082d",
   "metadata": {},
   "outputs": [
    {
     "name": "stdout",
     "output_type": "stream",
     "text": [
      "csv file'sales.data.csv' has been created\n"
     ]
    }
   ],
   "source": [
    "#create csv file\n",
    "import csv \n",
    "data = [\n",
    "    ['Sales' , 'Date', 'Category'],\n",
    "    [20,'01-05-2023', 'mobile'],\n",
    "    [50,'04-05-2023', 'pc'],\n",
    "    [30,'05-05-2023','mouse'],\n",
    "    [40,'06-06-2023','keyborad'],\n",
    "    [50,'08-05-2023','ipad'],\n",
    "    [60,'09-05-2023','laptop'],\n",
    "    [10,'10,05,2023','tv'],\n",
    "    [50,'11-05-2023','headphone']]\n",
    "\n",
    "file_path = 'sales.data.csv'\n",
    "with open(file_path, 'w', newline= '') as file:\n",
    "    writer = csv.writer(file)\n",
    "    writer.writerows(data)\n",
    "print(f\"csv file'{file_path}' has been created\")\n",
    "    "
   ]
  },
  {
   "cell_type": "code",
   "execution_count": 21,
   "id": "d8285507-cb6b-4257-9659-afe21e9772c6",
   "metadata": {},
   "outputs": [
    {
     "data": {
      "text/plain": [
       "Text(0, 0.5, 'Date')"
      ]
     },
     "execution_count": 21,
     "metadata": {},
     "output_type": "execute_result"
    },
    {
     "data": {
      "image/png": "[encoded data removed]",
      "text/plain": [
       "<Figure size 640x480 with 1 Axes>"
      ]
     },
     "metadata": {},
     "output_type": "display_data"
    }
   ],
   "source": [
    "import pandas as pd\n",
    "import matplotlib.pyplot as plt\n",
    "data = pd.read_csv('sales.data.csv')\n",
    "df= pd.DataFrame(data)\n",
    "x = list(df.iloc[:, 0])\n",
    "y = list(df.iloc[:, 1])\n",
    "\n",
    "plt.bar(x, y , color= 'g')\n",
    "plt.title('sales of category')\n",
    "plt.xlabel('Sales')\n",
    "plt.ylabel('Date')"
   ]
  },
  {
   "cell_type": "markdown",
   "id": "0948b880-d9ec-4a38-8ec4-e945b7304286",
   "metadata": {},
   "source": [
    "Q11. You are given a CSV file containing student data that includes the student ID and their test score. Write\n",
    "a Python program that reads the CSV file, calculates the mean, median, and mode of the test scores, and\n",
    "displays the results in a table."
   ]
  },
  {
   "cell_type": "code",
   "execution_count": 1,
   "id": "9e3b444a-e62e-42e3-952e-95bc1750fce7",
   "metadata": {},
   "outputs": [
    {
     "name": "stdout",
     "output_type": "stream",
     "text": [
      "csv file'student.data.csv' has been created\n"
     ]
    }
   ],
   "source": [
    "#create csv file\n",
    "import csv \n",
    "data = [\n",
    "    ['Student Id' , 'Test Score'],\n",
    "    [1,85],\n",
    "    [2,90],\n",
    "    [3,80],\n",
    "    [4,75],\n",
    "    [5,85],\n",
    "    [6,82],\n",
    "    [7,78],\n",
    "    [8,85],\n",
    "    [9,90],\n",
    "    [10,85]]\n",
    "\n",
    "file_path = 'student.data.csv'\n",
    "with open(file_path, 'w', newline= '') as file:\n",
    "    writer = csv.writer(file)\n",
    "    writer.writerows(data)\n",
    "print(f\"csv file'{file_path}' has been created\")\n",
    "    "
   ]
  },
  {
   "cell_type": "code",
   "execution_count": 7,
   "id": "6c655b9a-836d-458f-93f4-2978df47744e",
   "metadata": {},
   "outputs": [
    {
     "name": "stdin",
     "output_type": "stream",
     "text": [
      "enter the file path of the csv file contaning the sutendt data: student.data.csv\n"
     ]
    },
    {
     "name": "stdout",
     "output_type": "stream",
     "text": [
      "  Statistics value\n",
      "0       Mean  83.5\n",
      "1     Median  85.0\n",
      "2       Mode    85\n"
     ]
    }
   ],
   "source": [
    "import pandas as pd \n",
    "file_path = input (\"enter the file path of the csv file contaning the sutendt data:\")\n",
    "data = pd.read_csv(file_path)\n",
    "mean_score = data['Test Score'].mean()\n",
    "median_score = data['Test Score'].median()\n",
    "mode_score = data['Test Score'].mode()\n",
    "result_table = pd.DataFrame({'Statistics':['Mean', 'Median', 'Mode'],\n",
    "                             'value': [mean_score, median_score,','.join(map(str, mode_score))]})\n",
    "print(result_table)"
   ]
  },
  {
   "cell_type": "code",
   "execution_count": null,
   "id": "0ebcaf9c-b524-431b-833e-50c507a1123d",
   "metadata": {},
   "outputs": [],
   "source": []
  }
 ],
 "metadata": {
  "kernelspec": {
   "display_name": "Python 3 (ipykernel)",
   "language": "python",
   "name": "python3"
  },
  "language_info": {
   "codemirror_mode": {
    "name": "ipython",
    "version": 3
   },
   "file_extension": ".py",
   "mimetype": "text/x-python",
   "name": "python",
   "nbconvert_exporter": "python",
   "pygments_lexer": "ipython3",
   "version": "3.10.8"
  }
 },
 "nbformat": 4,
 "nbformat_minor": 5
}
