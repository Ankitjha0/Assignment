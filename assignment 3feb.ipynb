{
 "cells": [
  {
   "cell_type": "code",
   "execution_count": 1,
   "id": "27207c18-98d3-4724-b76b-4a28c046bc74",
   "metadata": {},
   "outputs": [],
   "source": [
    "####Q1. Create a python program to sort the given list of tuples based on integer value using a lambda function.[('Sachin Tendulkar', 34357), ('Ricky Ponting', 27483), ('Jack Kallis', 25534), ('Virat Kohli', 24936)]\n",
    "Name = [('Sachin Tendulkar', 34357),('Ricky ponting' , 27483),('Jack Kallis', 25534),('Virat Kohli', 24936)]\n",
    "Sorted_Name = sorted(Name"
   ]
  },
  {
   "cell_type": "code",
   "execution_count": 2,
   "id": "9b70044e-3e31-4807-9103-e012edd99c9e",
   "metadata": {},
   "outputs": [
    {
     "data": {
      "text/plain": [
       "[1, 4, 9, 16, 25, 36, 49, 64, 81, 100]"
      ]
     },
     "execution_count": 2,
     "metadata": {},
     "output_type": "execute_result"
    }
   ],
   "source": [
    "####Q2 Write a Python Program to find the squares of all the numbers in the given list of integers usinglambda and map functions.[1, 2, 3, 4, 5, 6, 7, 8, 9, 10]\n",
    "l = [1,2,3,4,5,6,7,8,9,10]\n",
    "list(map(lambda x: x**2 , l))"
   ]
  },
  {
   "cell_type": "code",
   "execution_count": 5,
   "id": "a1552a7b-8196-4b91-9014-e1a5ce05a542",
   "metadata": {},
   "outputs": [
    {
     "data": {
      "text/plain": [
       "('1', '2', '3', '4', '5', '6', '7', '8', '9', '10')"
      ]
     },
     "execution_count": 5,
     "metadata": {},
     "output_type": "execute_result"
    }
   ],
   "source": [
    "###Q3. Write a python program to convert the given list of integers into a tuple of strings. Use map andlambda functions.Given String: [1, 2, 3, 4, 5, 6, 7, 8, 9, 10]Expected output: ('1', '2', '3', '4', '5', '6', '7', '8', '9', '10')\n",
    "string = [1,2,3,4,5,6,7,8,9,10]\n",
    "tuple(map(lambda x: str(x),string))"
   ]
  },
  {
   "cell_type": "code",
   "execution_count": 6,
   "id": "03c19e12-5434-45e2-a50c-0c5368e18cab",
   "metadata": {},
   "outputs": [
    {
     "data": {
      "text/plain": [
       "325"
      ]
     },
     "execution_count": 6,
     "metadata": {},
     "output_type": "execute_result"
    }
   ],
   "source": [
    "####Q4Write a python program using reduce function to compute the product of a list containing numbersfrom 1 to 25\n",
    "from functools import reduce\n",
    "l = [1,2,3,4,5,6,7,8,9,10,11,12,13,14,15,16,17,18,19,20,21,22,23,24,25]\n",
    "reduce(lambda x,y: x+y , l)"
   ]
  },
  {
   "cell_type": "code",
   "execution_count": 8,
   "id": "14b64a80-3e47-432b-afbf-a4dd59294096",
   "metadata": {},
   "outputs": [
    {
     "data": {
      "text/plain": [
       "[6, 60, 120]"
      ]
     },
     "execution_count": 8,
     "metadata": {},
     "output_type": "execute_result"
    }
   ],
   "source": [
    "#Q5. Write a python program to filter the numbers in a given list that are divisible by 2 and 3 using thefilter function.[2, 3, 6, 9, 27, 60, 90, 120, 55, 46]\n",
    "numbers = [2,3,6,9,27,60,120,55,46]\n",
    "list(filter(lambda x: (x %2 == 0) and (x % 3 == 0 ) , numbers))"
   ]
  },
  {
   "cell_type": "code",
   "execution_count": 20,
   "id": "3d929714-ff90-4695-89a2-c8129ddf8b73",
   "metadata": {},
   "outputs": [
    {
     "data": {
      "text/plain": [
       "['php', 'aba', 'radar', 'level']"
      ]
     },
     "execution_count": 20,
     "metadata": {},
     "output_type": "execute_result"
    }
   ],
   "source": [
    "###Q6. Write a python program to find palindromes in the given list of strings using lambda and filterfunction.['python', 'php', 'aba', 'radar', 'level']\n",
    "string= ['python' , 'php', 'aba', 'radar', 'level']\n",
    "list(filter(lambda word: word ==word[::-1], string))\n"
   ]
  }
 ],
 "metadata": {
  "kernelspec": {
   "display_name": "Python 3 (ipykernel)",
   "language": "python",
   "name": "python3"
  },
  "language_info": {
   "codemirror_mode": {
    "name": "ipython",
    "version": 3
   },
   "file_extension": ".py",
   "mimetype": "text/x-python",
   "name": "python",
   "nbconvert_exporter": "python",
   "pygments_lexer": "ipython3",
   "version": "3.10.8"
  }
 },
 "nbformat": 4,
 "nbformat_minor": 5
}
