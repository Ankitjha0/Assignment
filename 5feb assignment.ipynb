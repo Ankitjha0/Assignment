{
 "cells": [
  {
   "cell_type": "markdown",
   "id": "6c2e4911-86f9-410a-938c-0932efc8d5b3",
   "metadata": {},
   "source": [
    "Q1. Explain Class and Object with respect to Object-Oriented Programming. Give a suitable example.\n"
   ]
  },
  {
   "cell_type": "markdown",
   "id": "a76312de-b538-4c26-b43a-74d98e7faf44",
   "metadata": {},
   "source": [
    "Answer - \n",
    "class  -A class is a blueprint or a template that defines a set of attributes and method that are comain to certain category of objects . it specific the properties and behaviour that objects of that class  should possess.\n",
    "\n",
    "object - An object, on the other hand, is an instance of a class . it speccific , unique entry created from a class  that has its own set of attribute values and can perform operation defined by the class method.\n"
   ]
  },
  {
   "cell_type": "code",
   "execution_count": 3,
   "id": "69b41ea1-748e-476d-88be-894e911d6f61",
   "metadata": {},
   "outputs": [
    {
     "name": "stdout",
     "output_type": "stream",
     "text": [
      "Thar\n",
      "Red & Black\n"
     ]
    }
   ],
   "source": [
    "class car:\n",
    "    def __init__(self, make, model, year,color):\n",
    "        self.make = make\n",
    "        self.model = model\n",
    "        self.year = year\n",
    "        self.color = color\n",
    "    def start(self):\n",
    "        print(\"starting engine\")\n",
    "    def stop(self):\n",
    "        print(\"stop engine\")\n",
    "my_car = car(\"Mahindra\" , \"Thar\" , 2021 ,  \"Red & Black\")\n",
    "print(my_car.model)\n",
    "print(my_car.color)"
   ]
  },
  {
   "cell_type": "markdown",
   "id": "7a9029cf-c2f0-4e50-9691-a638b780ddae",
   "metadata": {},
   "source": [
    "Q2 Name the four pillar of oops.\n",
    "1. Encapsulation\n",
    "2. Inheritance\n",
    "3. Polymorphism\n",
    "4. Abstraction"
   ]
  },
  {
   "cell_type": "markdown",
   "id": "2b842987-4eba-4d24-84f8-c3fb9880a77e",
   "metadata": {},
   "source": [
    "Q3. Explain the __init__() function is used . Give a suitable example.\n",
    "The __init__() function is commonly used to set  default values for the objects attributes , and perform any other initialization that requred before the object can be used to perform validation checks on the input data , and to raise exceptions if the data is invalid. "
   ]
  },
  {
   "cell_type": "code",
   "execution_count": 12,
   "id": "d8bcf17e-552c-4695-9048-e6ebaf60e40b",
   "metadata": {},
   "outputs": [
    {
     "name": "stdout",
     "output_type": "stream",
     "text": [
      "Hello , My name is Ankit Kumar Jha  and I am  22 years old. I live in India\n"
     ]
    }
   ],
   "source": [
    "###example\n",
    "class person:\n",
    "    def __init__(self , name ,age ,country):\n",
    "        self.name = name\n",
    "        self.age = age\n",
    "        self.country = country\n",
    "    def say_hello(self):\n",
    "        print(\"Hello , My name is\" , self.name, \" and I am \", self.age, \"years old.\" , \"I live in\", self.country)\n",
    "p1 = person(\"Ankit Kumar Jha\" , 22 , \"India\")\n",
    "p1.say_hello()"
   ]
  },
  {
   "cell_type": "markdown",
   "id": "f68b23e3-8f88-4f15-8ca3-f1854a85dc0b",
   "metadata": {},
   "source": [
    "Q4 why self is used oops?\n",
    "\n",
    "Answer - self is a refernce to the current instance of a class . .self is used in object oriented programming to refer to the current instance of a class and to acess and modify its attributes and methods."
   ]
  },
  {
   "cell_type": "markdown",
   "id": "ed36effa-25cb-4409-89d6-0f6adf70e130",
   "metadata": {},
   "source": [
    "Q5. What is inheritance? give an example for each type of inheritance.\n",
    "\n",
    "inheritance is a mechanism in object-oriented programing that allows a new class (the derived class) to based on an existing class (the base class). The derived class inherits the properties and d methods of the base class, and can also add its own unique properties and methods.  "
   ]
  },
  {
   "cell_type": "code",
   "execution_count": 14,
   "id": "f5009ae9-56de-4f8d-adab-6cc08823f11c",
   "metadata": {},
   "outputs": [
    {
     "name": "stdout",
     "output_type": "stream",
     "text": [
      "the dog barks\n"
     ]
    }
   ],
   "source": [
    "### example \n",
    "class animal:\n",
    "    def __init__(self,name):\n",
    "        self.name = name\n",
    "        def Dog(self):\n",
    "            print(\"the animal makes a sound\")\n",
    "class Dog(animal):\n",
    "    def speak(self):\n",
    "        print(\"the dog barks\")\n",
    "dog = Dog(\"Tiger\")        \n",
    "dog.speak()\n",
    "            \n"
   ]
  },
  {
   "cell_type": "code",
   "execution_count": null,
   "id": "c43fc8f7-5207-4b6a-a682-57df4a65401b",
   "metadata": {},
   "outputs": [],
   "source": []
  }
 ],
 "metadata": {
  "kernelspec": {
   "display_name": "Python 3 (ipykernel)",
   "language": "python",
   "name": "python3"
  },
  "language_info": {
   "codemirror_mode": {
    "name": "ipython",
    "version": 3
   },
   "file_extension": ".py",
   "mimetype": "text/x-python",
   "name": "python",
   "nbconvert_exporter": "python",
   "pygments_lexer": "ipython3",
   "version": "3.10.8"
  }
 },
 "nbformat": 4,
 "nbformat_minor": 5
}
