{
 "cells": [
  {
   "cell_type": "code",
   "execution_count": 1,
   "id": "71e2ca6a-d0c9-47f6-98d0-259782e87a03",
   "metadata": {},
   "outputs": [
    {
     "name": "stdin",
     "output_type": "stream",
     "text": [
      "enter percentage:  88\n"
     ]
    },
    {
     "name": "stdout",
     "output_type": "stream",
     "text": [
      "Grade: B\n"
     ]
    }
   ],
   "source": [
    "####Q1Write  a program tp aceept percantage from the user and idplay the grades according to the folloswing critire\n",
    "percentage = float(input(\"enter percentage: \"))\n",
    "if percentage > 90:\n",
    "    grade = \"A\"\n",
    "elif percentage > 80:\n",
    "    grade = \"B\"\n",
    "elif percentage > 60:\n",
    "    grade = \"C\"\n",
    "else:\n",
    "    grade = \"D\"\n",
    "print(\"Grade:\" , grade)    "
   ]
  },
  {
   "cell_type": "code",
   "execution_count": 2,
   "id": "d9c41eae-8bed-4a54-b0ff-a523fbbe8ee6",
   "metadata": {},
   "outputs": [
    {
     "name": "stdin",
     "output_type": "stream",
     "text": [
      "enter a city Delhi\n"
     ]
    },
    {
     "name": "stdout",
     "output_type": "stream",
     "text": [
      "monument in Delhi:\n",
      "- Red Fort \n"
     ]
    }
   ],
   "source": [
    "###Q3Accept any city from the user input and diplay monuments of that city\n",
    "city = input(\"enter a city\")\n",
    "if city == \"Delhi\":\n",
    "    print(\"monument in Delhi:\")\n",
    "    print(\"- Red Fort \")\n",
    "elif city == \"Agra\":\n",
    "    print(\"monument in Agra:\")\n",
    "    print(\"-Taj Mahal\")\n",
    "elif city == \"jaipur\":\n",
    "    print(\"monument in jaipur:\")\n",
    "    print(\"-Jal Mahal\")\n",
    "else:\n",
    "    print(\"invalid city enterd.\")\n",
    "    "
   ]
  },
  {
   "cell_type": "code",
   "execution_count": 3,
   "id": "6f96102f-7c28-40d4-9cf5-f2f0bbeb8383",
   "metadata": {},
   "outputs": [
    {
     "name": "stdout",
     "output_type": "stream",
     "text": [
      "4\n"
     ]
    }
   ],
   "source": [
    "#### Q4check how many times a given number can be divided by 3 before it is less than or equal to 10\n",
    "def division(num):\n",
    "    count = 0\n",
    "    while num > 10:\n",
    "        num = num / 3\n",
    "        count += 1\n",
    "    return count    \n",
    "reult = division (700)\n",
    "print(reult)"
   ]
  },
  {
   "cell_type": "code",
   "execution_count": 4,
   "id": "9f01c712-e083-4d06-bfeb-090feeaff0ac",
   "metadata": {},
   "outputs": [
    {
     "name": "stdout",
     "output_type": "stream",
     "text": [
      "0\n",
      "1\n",
      "2\n",
      "3\n",
      "4\n",
      "5\n",
      "6\n",
      "7\n",
      "8\n",
      "9\n"
     ]
    }
   ],
   "source": [
    "###Q5. why and when to use  while loop in python give  a detailed descrption with exmple\n",
    "##A while loop is use to python when you want to repeat a set as certain as condition is true . athe loop will continue to execute untill the condition is  no  longer true .\n",
    "count =0 \n",
    "while count <10:\n",
    "    print(count)\n",
    "    count +=1\n",
    "    \n",
    "    "
   ]
  },
  {
   "cell_type": "code",
   "execution_count": 6,
   "id": "ba553fc7-aaa3-48dc-8e9e-3c024c47e7f4",
   "metadata": {},
   "outputs": [
    {
     "name": "stdout",
     "output_type": "stream",
     "text": [
      "1\t2\t3\t4\t5\t6\t7\t8\t9\t10\t\n",
      "4\t6\t8\t10\t12\t14\t16\t18\t20\t\n",
      "9\t12\t15\t18\t21\t24\t27\t30\t\n",
      "16\t20\t24\t28\t32\t36\t40\t\n",
      "25\t30\t35\t40\t45\t50\t\n",
      "36\t42\t48\t54\t60\t\n",
      "49\t56\t63\t70\t\n",
      "64\t72\t80\t\n",
      "81\t90\t\n",
      "100\t\n"
     ]
    }
   ],
   "source": [
    "###Q6 use nested while loop to print 3 different type of pattern\n",
    "###1st pattern\n",
    "i = 1\n",
    "while i <= 10:\n",
    "    j = i\n",
    "    ##inner loops\n",
    "    while j <= 10:\n",
    "        product = i*j\n",
    "        print(product,end = \"\\t\")\n",
    "        j += 1\n",
    "    print()\n",
    "    i += 1"
   ]
  },
  {
   "cell_type": "code",
   "execution_count": 12,
   "id": "14b4a113-3c15-478a-bd09-b22b531dc534",
   "metadata": {},
   "outputs": [
    {
     "name": "stdout",
     "output_type": "stream",
     "text": [
      "**********\n",
      "*********\n",
      "********\n",
      "*******\n",
      "******\n",
      "*****\n"
     ]
    }
   ],
   "source": [
    "#2nd pattern\n",
    "i = 10\n",
    "while i >=5:\n",
    "    j = 1\n",
    "    while j <= i:\n",
    "        print('*' , end = '')\n",
    "        j += 1\n",
    "    print()\n",
    "    i -= 1\n"
   ]
  },
  {
   "cell_type": "code",
   "execution_count": 11,
   "id": "02d0334b-e6c7-4585-bb91-e22fceb88ade",
   "metadata": {},
   "outputs": [
    {
     "name": "stdout",
     "output_type": "stream",
     "text": [
      "*\n",
      "**\n",
      "***\n",
      "****\n",
      "*****\n"
     ]
    }
   ],
   "source": [
    "###3rd pattern\n",
    "i = 1\n",
    "while i <= 5:\n",
    "    j = 1 \n",
    "    while j <= i:\n",
    "        print('*' , end = '')\n",
    "        j += 1\n",
    "    print()\n",
    "    i += 1"
   ]
  },
  {
   "cell_type": "code",
   "execution_count": null,
   "id": "90868582-7377-475b-9438-a4cf86b5cd07",
   "metadata": {},
   "outputs": [],
   "source": []
  }
 ],
 "metadata": {
  "kernelspec": {
   "display_name": "Python 3 (ipykernel)",
   "language": "python",
   "name": "python3"
  },
  "language_info": {
   "codemirror_mode": {
    "name": "ipython",
    "version": 3
   },
   "file_extension": ".py",
   "mimetype": "text/x-python",
   "name": "python",
   "nbconvert_exporter": "python",
   "pygments_lexer": "ipython3",
   "version": "3.10.8"
  }
 },
 "nbformat": 4,
 "nbformat_minor": 5
}
