{
 "cells": [
  {
   "cell_type": "markdown",
   "id": "bbf9a07d-1d67-455f-a2c4-8b79151e0934",
   "metadata": {},
   "source": [
    "Q1. Create a vehicle class with an init method having instance variables as name_of_vehicle, max_speed\n",
    "and average_of_vehicle. "
   ]
  },
  {
   "cell_type": "code",
   "execution_count": 1,
   "id": "574931d2-4960-42d0-ad53-a2fc06e3867b",
   "metadata": {},
   "outputs": [],
   "source": [
    "class Veichle:\n",
    "    def __init__(self, name_of_veichle, max_speed, average_of_veichle):\n",
    "        self.name_of_veichle = name_of_veichle\n",
    "        self.max_speed= max_speed\n",
    "        self.average_of_veichle = average_of_veichle"
   ]
  },
  {
   "cell_type": "code",
   "execution_count": 10,
   "id": "e8d31d72-f40c-43d6-a5ff-21a8042eb7d0",
   "metadata": {},
   "outputs": [],
   "source": [
    "car = Veichle(\"TATA\",120,40)\n",
    "Bike = Veichle(\"Hero\", 100, 55)"
   ]
  },
  {
   "cell_type": "code",
   "execution_count": 14,
   "id": "08d11511-3dbe-46d2-a416-82d6a2ba79f9",
   "metadata": {},
   "outputs": [
    {
     "name": "stdout",
     "output_type": "stream",
     "text": [
      "TATA\n",
      "120\n",
      "40\n",
      "Hero\n",
      "100\n",
      "55\n"
     ]
    }
   ],
   "source": [
    "print(car.name_of_veichle)\n",
    "print(car.max_speed)\n",
    "print(car.average_of_veichle)\n",
    "\n",
    "\n",
    "print(Bike.name_of_veichle)\n",
    "print(Bike.max_speed)\n",
    "print(Bike.average_of_veichle)"
   ]
  },
  {
   "cell_type": "markdown",
   "id": "f2d95c1d-2e18-4920-be1f-4a9b6706b301",
   "metadata": {},
   "source": [
    "Q2. Create a child class car from the vehicle class created in Que 1, which will inherit the vehicle class.\n",
    "Create a method named seating_capacity which takes capacity as an argument and returns the name of\n",
    "the vehicle and its seating capacity."
   ]
  },
  {
   "cell_type": "code",
   "execution_count": 14,
   "id": "1100029b-c257-4a73-ae54-47a46beb8076",
   "metadata": {},
   "outputs": [],
   "source": [
    "class Vehicle:\n",
    "    def __init__(self, name_of_vehicle, max_speed, average_of_vehicle):\n",
    "        self.name_of_vehicle = name_of_vehicle\n",
    "        self.max_speed = max_speed\n",
    "        self.average_of_vehicle = average_of_vehicle\n",
    "class Car(Vehicle):\n",
    "    def seating_capacity(self, capacity):\n",
    "        return f\"{self.name_of_vehicle} has a seating capacity of {capacity}\""
   ]
  },
  {
   "cell_type": "code",
   "execution_count": 15,
   "id": "5056cebd-27f2-40bc-9094-1191c7357806",
   "metadata": {},
   "outputs": [
    {
     "data": {
      "text/plain": [
       "'Mahindra Thar has a seating capacity of 4'"
      ]
     },
     "execution_count": 15,
     "metadata": {},
     "output_type": "execute_result"
    }
   ],
   "source": [
    "Car('Mahindra Thar', 300, 18).seating_capacity(4)"
   ]
  },
  {
   "cell_type": "markdown",
   "id": "ee258c87-abd1-4233-ac36-6b0b30eddb6d",
   "metadata": {},
   "source": [
    "Q3. What is multiple inheritance? Write a python code to demonstrate multiple inheritance?"
   ]
  },
  {
   "cell_type": "code",
   "execution_count": 6,
   "id": "a66e26f2-a6e6-4f73-a959-04c69ec7ecab",
   "metadata": {},
   "outputs": [
    {
     "name": "stdout",
     "output_type": "stream",
     "text": [
      "Batty is flying\n",
      "screech\n"
     ]
    }
   ],
   "source": [
    "class Animal:\n",
    "    def __init__(self , name):\n",
    "        self.name = name\n",
    "    def speak(self):\n",
    "        pass\n",
    "class Bird (Animal):\n",
    "    def __init__(self , name):\n",
    "        super().__init__(name)\n",
    "    def fly (self):\n",
    "        print(f\"{self.name} is flying\")\n",
    "class Bat(Bird):\n",
    "    def __init__(self ,name):\n",
    "        super().__init__(name)\n",
    "    def speak(self):\n",
    "        print(\"screech\")\n",
    "\n",
    "bat = Bat(\"Batty\")\n",
    "bat.fly()\n",
    "bat.speak()\n",
    "    "
   ]
  },
  {
   "cell_type": "markdown",
   "id": "b59210f7-79a4-4a0b-9b5e-00b28034ab6c",
   "metadata": {},
   "source": [
    "Q4. What are getter and setter in python? Create a class and create a getter and a setter method in this\n",
    "class.\n",
    "\n",
    "A getter method is used to retrive the value of a private attribute, while a setter method  is used to modify the value of a private attribute.\n",
    "By using getters and setters , we can ensure that the access to the to the private attribute is controlled , and it can be validated or manuplated as needed.\n",
    "\n"
   ]
  },
  {
   "cell_type": "code",
   "execution_count": 1,
   "id": "fabbd658-0198-438e-94bc-55b020f50027",
   "metadata": {},
   "outputs": [],
   "source": [
    "class Person:\n",
    "    def __init__(self, name , age , date_of_birth):\n",
    "        self._name = name\n",
    "        self._age = age\n",
    "        self._date_of_birth = date_of_birth\n",
    "    def get_name(self):\n",
    "        return self._name\n",
    "    def set_name(self, name):\n",
    "        self._name = name\n",
    "    def get_age(self):\n",
    "        return self._age\n",
    "    def set_age(self , age):\n",
    "        self._age = age\n",
    "    def get_date_of_birth(self):\n",
    "        return self._date_of_birth\n",
    "    def set_date_of_birth(self, date_of_birth):\n",
    "        self._date_of_birth = date_of_birth"
   ]
  },
  {
   "cell_type": "code",
   "execution_count": 5,
   "id": "5a0fa895-22ac-4b62-8d39-eed5292a89d7",
   "metadata": {},
   "outputs": [
    {
     "name": "stdout",
     "output_type": "stream",
     "text": [
      "Ankit Kumar jha\n",
      "Anup\n",
      "22\n",
      "10\n",
      "24/02/2001\n",
      "5/06/2001\n"
     ]
    }
   ],
   "source": [
    "person = Person(\"Ankit Kumar jha\" , 22 , \"24/02/2001\")\n",
    "print(person.get_name())\n",
    "person.set_name(\"Anup\")\n",
    "print(person.get_name())\n",
    "print(person.get_age())\n",
    "person.set_age(10)\n",
    "print(person.get_age())\n",
    "print(person.get_date_of_birth())\n",
    "person.set_date_of_birth(\"5/06/2001\")\n",
    "print(person.get_date_of_birth())"
   ]
  },
  {
   "cell_type": "markdown",
   "id": "89adef68-7401-4eca-aa30-35aed938e96c",
   "metadata": {},
   "source": [
    "Q5.What is method overriding in python? Write a python code to demonstrate method overriding?\n"
   ]
  },
  {
   "cell_type": "markdown",
   "id": "d7fb3025-f9f0-40f6-a951-265e6c2a700e",
   "metadata": {},
   "source": [
    "In python of overriding is a feature of object oriented programing that allows a subclass to provide its own implementation of a method that is already defined in parent class. This is useful when you want to change or extend  the behaviour of method  in the subclass without modyfing the orignal  implementation in the parent class."
   ]
  },
  {
   "cell_type": "code",
   "execution_count": 2,
   "id": "83746cf8-d41b-4498-969a-ab4364ef76fb",
   "metadata": {},
   "outputs": [
    {
     "name": "stdout",
     "output_type": "stream",
     "text": [
      "The dog barks.\n"
     ]
    }
   ],
   "source": [
    "class Animal:\n",
    "    def make_sound(self):\n",
    "        print(\"The animal make a sound\")\n",
    "class Dog(Animal):\n",
    "    def make_sound(self):\n",
    "        print(\"The dog barks.\")\n",
    "dog = Dog()  \n",
    "dog.make_sound()"
   ]
  },
  {
   "cell_type": "code",
   "execution_count": null,
   "id": "0cfa5540-62ea-429e-9d25-c953d1a79b73",
   "metadata": {},
   "outputs": [],
   "source": []
  }
 ],
 "metadata": {
  "kernelspec": {
   "display_name": "Python 3 (ipykernel)",
   "language": "python",
   "name": "python3"
  },
  "language_info": {
   "codemirror_mode": {
    "name": "ipython",
    "version": 3
   },
   "file_extension": ".py",
   "mimetype": "text/x-python",
   "name": "python",
   "nbconvert_exporter": "python",
   "pygments_lexer": "ipython3",
   "version": "3.10.8"
  }
 },
 "nbformat": 4,
 "nbformat_minor": 5
}
