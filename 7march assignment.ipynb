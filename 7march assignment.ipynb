{
 "cells": [
  {
   "cell_type": "markdown",
   "id": "7a31b254-1f60-4a58-9c78-c93ab17d9266",
   "metadata": {},
   "source": [
    "Q1. What are the three measures of central tendency?"
   ]
  },
  {
   "cell_type": "markdown",
   "id": "35437f7d-15d0-4047-a976-b139e66a8ed6",
   "metadata": {},
   "source": [
    "There are three main measures of central tendency:\n",
    "\n",
    "1. Mean\n",
    "2. Median\n",
    "3. Mode"
   ]
  },
  {
   "cell_type": "markdown",
   "id": "073253ee-fbf8-401d-930f-308dfb3b79e6",
   "metadata": {},
   "source": [
    "Q2. What is the difference between the mean, median, and mode? How are they used to measure the\n",
    "central tendency of a dataset?"
   ]
  },
  {
   "cell_type": "markdown",
   "id": "ac7d0c28-8ef8-49ca-9f60-b56af7249cb6",
   "metadata": {},
   "source": [
    "The difference between mean, median and mode are: Mean is the average value of the given observations. Median is the middle value of the given observations. Mode is the most repeated value in the given observation."
   ]
  },
  {
   "cell_type": "markdown",
   "id": "fcb84dfd-4e99-466e-8558-c901bd7451ab",
   "metadata": {},
   "source": [
    "Q3. Measure the three measures of central tendency for the given height data:\n",
    "\n",
    " [178,177,176,177,178.2,178,175,179,180,175,178.9,176.2,177,172.5,178,176.5]"
   ]
  },
  {
   "cell_type": "code",
   "execution_count": 3,
   "id": "32577cc8-cd38-4b0f-8d76-763a532d2410",
   "metadata": {},
   "outputs": [
    {
     "name": "stdout",
     "output_type": "stream",
     "text": [
      "Mean: 177.01875\n",
      "Median: 177.0\n",
      "Mode: 177.0\n"
     ]
    },
    {
     "name": "stderr",
     "output_type": "stream",
     "text": [
      "/tmp/ipykernel_104/3093944157.py:6: FutureWarning: Unlike other reduction functions (e.g. `skew`, `kurtosis`), the default behavior of `mode` typically preserves the axis it acts along. In SciPy 1.11.0, this behavior will change: the default value of `keepdims` will become False, the `axis` over which the statistic is taken will be eliminated, and the value None will no longer be accepted. Set `keepdims` to True or False to avoid this warning.\n",
      "  mode= stats.mode(height_data)\n"
     ]
    }
   ],
   "source": [
    "import numpy as np\n",
    "from scipy import stats\n",
    "height_data=  [178,177,176,177,178.2,178,175,179,180,175,178.9,176.2,177,172.5,178,176.5]\n",
    "mean= np.mean(height_data)\n",
    "median= np.median(height_data)\n",
    "mode= stats.mode(height_data)\n",
    "print(\"Mean:\", mean)\n",
    "print(\"Median:\", median)\n",
    "print(\"Mode:\", mode.mode[0])"
   ]
  },
  {
   "cell_type": "markdown",
   "id": "7006fcf8-80f7-4f94-ab35-bb2e5fbfacb4",
   "metadata": {},
   "source": [
    "Q4 find the standard deviation for the given data:\n",
    "\n",
    "[178,177,176,177,178.2,178,175,179,180,175,178.9,176.2,177,172.5,178,176.5]"
   ]
  },
  {
   "cell_type": "code",
   "execution_count": 4,
   "id": "6c403ddb-4735-44a8-a166-c2bf6ae82e98",
   "metadata": {},
   "outputs": [
    {
     "name": "stdout",
     "output_type": "stream",
     "text": [
      "Standard Deviation: 1.7885814036548633\n"
     ]
    }
   ],
   "source": [
    "import numpy as np\n",
    "data =[178,177,176,177,178.2,178,175,179,180,175,178.9,176.2,177,172.5,178,176.5]\n",
    "std_dev = np.std(data)\n",
    "print(\"Standard Deviation:\", std_dev)"
   ]
  },
  {
   "cell_type": "markdown",
   "id": "fcb0b6be-eb4d-4d34-bcb1-0b4805251aaf",
   "metadata": {},
   "source": [
    "Q5. How are measures of dispersion such as range, variance, and standard deviation used to describe\n",
    "the spread of a dataset? Provide an example."
   ]
  },
  {
   "cell_type": "markdown",
   "id": "ba3b5bcb-0e0d-48e5-ad57-553be430acfe",
   "metadata": {},
   "source": [
    "Range - The rangwe is the simplest meausre of dispersion and represents the difference between the maximum and minium values in a dataset .it gives \n",
    "an idea to spread of the data entire range.\n",
    "\n",
    "variance - variance meausre the average of squared deviation of each data points are spread out around the mean . it provides a measure of how the data points are  spread out arount he mean. \n",
    "\n",
    "Standard Deviation- The standard deviation is the square root of the variance . it provides a measure of the average deviation from the mean and is often used as a more interpretabele measure of dispesion compared to variance.\n"
   ]
  },
  {
   "cell_type": "code",
   "execution_count": 2,
   "id": "334e80b9-324f-4c45-8a75-b726b9718287",
   "metadata": {},
   "outputs": [
    {
     "name": "stdout",
     "output_type": "stream",
     "text": [
      "Rang: 900\n",
      "Variance: 82500.0\n",
      "Standard Deviation: 287.22813232690146\n"
     ]
    }
   ],
   "source": [
    "#Eample \n",
    "import numpy as np\n",
    "data = [100,200,300,400,500,600,700,800,900,1000]\n",
    "#RANGE\n",
    "data_range = np.max(data) - np.min(data)\n",
    "#VARIANCE\n",
    "data_variance = np.var(data)\n",
    "#STANDARD DEVIATION\n",
    "data_std_dev= np.std(data)\n",
    "\n",
    "print(\"Rang:\" ,data_range)\n",
    "print(\"Variance:\", data_variance)\n",
    "print(\"Standard Deviation:\", data_std_dev)"
   ]
  },
  {
   "cell_type": "markdown",
   "id": "36f9f35d-ff87-44a6-bc3e-6def78896b11",
   "metadata": {},
   "source": [
    "Q6. What is a Venn diagram?"
   ]
  },
  {
   "cell_type": "markdown",
   "id": "31c3a058-2693-473e-b75e-fa18525d42b6",
   "metadata": {},
   "source": [
    "A Venn diagram is an illustration that uses circles to show the relationships among things or finite groups of things. Circles that overlap have a commonality while circles that do not overlap do not share those traits."
   ]
  },
  {
   "cell_type": "markdown",
   "id": "cb7178f8-65ef-4373-ab85-0018ab2b7f7d",
   "metadata": {},
   "source": [
    "Q7. For the two given sets A = (2,3,4,5,6,7) & B = (0,2,6,8,10). Find:\n",
    "\n",
    "(i) \tA B\n",
    "\n",
    "(ii)\tA ⋃ B"
   ]
  },
  {
   "cell_type": "code",
   "execution_count": 5,
   "id": "2c2b42ae-4354-4b61-afbd-26921172f569",
   "metadata": {},
   "outputs": [
    {
     "name": "stdout",
     "output_type": "stream",
     "text": [
      "ANB Intersection: {2, 6}\n",
      "AUB (union): {0, 2, 3, 4, 5, 6, 7, 8, 10}\n"
     ]
    }
   ],
   "source": [
    "A={2,3,4,5,6,7}\n",
    "B={0,2,6,8,10}\n",
    "# AnB\n",
    "ANB =A.intersection(B)\n",
    "AUB= A.union(B)\n",
    "print(\"ANB Intersection:\" , ANB)\n",
    "print(\"AUB (union):\" , AUB)"
   ]
  },
  {
   "cell_type": "markdown",
   "id": "5e560d27-37f4-412e-b0af-3f9350217064",
   "metadata": {},
   "source": [
    "Q8. What do you understand about skewness data?"
   ]
  },
  {
   "cell_type": "markdown",
   "id": "91fd2087-518c-4d33-a69e-5f89ccd1a783",
   "metadata": {},
   "source": [
    "Skewness is a measurement of the distortion of symmetrical distribution or asymmetry in a data set. Skewness is demonstrated on a bell curve when data points are not distributed symmetrically to the left and right sides of the median on a bell curve."
   ]
  },
  {
   "cell_type": "markdown",
   "id": "d49a2490-ce42-4ceb-9631-88a4c9ddcf80",
   "metadata": {},
   "source": [
    "Q9. If a data is right skewed then what will be the position of median with respect to mean?"
   ]
  },
  {
   "cell_type": "markdown",
   "id": "7e0b3883-fc85-40b0-bfbd-1a61cd2f4790",
   "metadata": {},
   "source": [
    "If a dataset is right-skewed, it means that the tail of the distribution extends towards the right, indicating that there are few extreme values on the right side. In such cases, the mean tends to be pulled in the direction of the skewness, towards the larger values.\n",
    "\n",
    "When a distribution is right-skewed, the median is typically positioned to the right of the mean. This occurs because the median represents the middle value in the dataset, whereas the mean is influenced by the extreme values on the right side, which pull it in that direction.\n",
    "\n",
    "To summarize, in a right-skewed distribution:\n",
    "\n",
    "The mean is generally greater than the median.\n",
    "The median is positioned to the left of the mean."
   ]
  },
  {
   "cell_type": "markdown",
   "id": "ea2d0680-d918-4d3b-9735-5c269ea41cec",
   "metadata": {},
   "source": [
    "Q10. Explain the difference between covariance and correlation. How are these measures used in\n",
    "statistical analysis?"
   ]
  },
  {
   "cell_type": "markdown",
   "id": "5af3c3e6-5945-4e83-94b8-91cd354a8ef6",
   "metadata": {},
   "source": [
    "\n",
    "Covariance:\n",
    "Covariance measures how two variables change together. It indicates the direction of the relationship (positive or negative) and the magnitude of the change. A positive covariance indicates that when one variable increases, the other tends to increase as well, while a negative covariance suggests that as one variable increases, the other tends to decrease. The magnitude of covariance is not standardized and can take any value. Covariance can be calculated using the following formula:\n",
    "\n",
    "Cov(X, Y) = Σ((X - μX)(Y - μY))/(n - 1)\n",
    "\n",
    "Here, X and Y are variables, μX and μY are their respective means, and n is the number of observations.\n",
    "\n",
    "Correlation:\n",
    "Correlation, on the other hand, standardizes the covariance by dividing it by the product of the standard deviations of the two variables. It provides a measure of the linear relationship between two variables, ranging from -1 to +1. A correlation coefficient of +1 indicates a perfect positive linear relationship, -1 indicates a perfect negative linear relationship, and 0 indicates no linear relationship. Correlation can be calculated using the following formula:\n",
    "\n",
    "Corr(X, Y) = Cov(X, Y)/(σX * σY)\n",
    "\n",
    "Here, Cov(X, Y) is the covariance between X and Y, and σX and σY are the standard deviations of X and Y, respectively.\n",
    "\n",
    "Covariance and correlation help in identifying the direction and strength of the relationship between variables. They provide insights into whether two variables move together or in opposite directions.\n",
    "\n",
    "Covariance and correlation are used in portfolio theory and finance to assess the relationship between different assets. Positive covariance or correlation indicates that the assets tend to move together, while negative covariance or correlation suggests diversification potential.\n",
    "\n",
    "Correlation is widely used in regression analysis to assess the strength and significance of the relationship between a dependent variable and one or more independent variables.\n",
    "\n",
    "Correlation is used in data exploration and feature selection to identify highly correlated variables. Highly correlated variables may introduce multicollinearity issues in regression models and can be removed to improve model performance.\n"
   ]
  },
  {
   "cell_type": "markdown",
   "id": "50cae3dd-5be8-4d78-b356-88ac5c822127",
   "metadata": {},
   "source": [
    "Q11. What is the formula for calculating the sample mean? Provide an example calculation for a\n",
    "dataset."
   ]
  },
  {
   "cell_type": "markdown",
   "id": "e83349f5-54f5-4c04-991a-4409d8f5ff09",
   "metadata": {},
   "source": [
    "The formula of calculating the sample mean as follows:\n",
    "sample mean(x) = (sum of all vallues in the dataset)/(number of values of in the dataset)\n",
    "example \n",
    "values:[10,12,15,18,20]\n",
    "sum of values = 10+12+15+18+20=75\n",
    "number of values= 5\n",
    "sample mean= 75/5=15"
   ]
  },
  {
   "cell_type": "markdown",
   "id": "91642b3c-6704-48f8-bd2a-390373d67590",
   "metadata": {},
   "source": [
    "Q12. For a normal distribution data what is the relationship between its measure of central tendency?"
   ]
  },
  {
   "cell_type": "markdown",
   "id": "b873c62f-57fb-444e-8426-1bfb3d9d7cbb",
   "metadata": {},
   "source": [
    "In a normal distribution, which is symmetric, the three measures of central tendency (mean, median, and mode) are all equal to each other.\n",
    "\n",
    "Mean: The mean of a normal distribution is the arithmetic average of all the data points. It represents the balance point of the distribution. In a perfectly normal distribution, the mean is located at the center.\n",
    "\n",
    "Median: The median is the middle value in a dataset when it is sorted in ascending or descending order. In a normal distribution, since the distribution is symmetric, the median is also located at the center of the distribution.\n",
    "\n",
    "Mode: The mode is the most frequently occurring value in a dataset. In a normal distribution, there is only one mode, which coincides with the mean and median. Therefore, the mode of a normal distribution is also located at the center of the distribution.\n"
   ]
  },
  {
   "cell_type": "markdown",
   "id": "75ba8446-2df8-4070-9bb5-fa192c617e39",
   "metadata": {},
   "source": [
    "Q13. How is covariance different from correlation?"
   ]
  },
  {
   "cell_type": "markdown",
   "id": "6d2710ef-d670-43f4-a14d-f7f7497a0e67",
   "metadata": {},
   "source": [
    "Covariance and correlation are both measures used to quantify the relationship between two variables, but they have some important differences:\n",
    "\n",
    "Interpretation: Covariance measures the direction and magnitude of the linear relationship between two variables. A positive covariance indicates a direct relationship (both variables tend to increase or decrease together), while a negative covariance indicates an inverse relationship (one variable tends to increase as the other decreases). However, the magnitude of covariance is not standardized, making it difficult to compare across different datasets.\n",
    "\n",
    "Correlation, on the other hand, standardizes the covariance by dividing it by the product of the standard deviations of the two variables. It provides a measure of the linear relationship between two variables on a scale from -1 to +1. A correlation coefficient of +1 indicates a perfect positive linear relationship, -1 indicates a perfect negative linear relationship, and 0 indicates no linear relationship.\n",
    "\n",
    "Scale Independence: Covariance is affected by the scale of the variables involved. If the variables have different units or scales, the magnitude of covariance will be influenced. This makes it challenging to compare covariances between different pairs of variables.\n",
    "\n",
    "Correlation, however, is scale-independent. It is a dimensionless measure and is unaffected by changes in the scale or units of the variables. This property makes correlation a more useful measure for comparing the strength and direction of relationships between different pairs of variables.\n",
    "\n",
    "Interpretability: Covariance is not as readily interpretable as correlation because its values are not standardized. It is difficult to determine the strength or magnitude of the relationship solely based on covariance values.\n",
    "\n",
    "Correlation, being standardized, is more easily interpretable. The correlation coefficient provides a clear indication of the strength and direction of the linear relationship between two variables.\n",
    "\n",
    "Range: Covariance can take any value, positive or negative, depending on the data. This makes it challenging to interpret or compare the magnitude of covariances.\n",
    "\n",
    "Correlation coefficients range between -1 and +1, providing a clear measure of the strength and direction of the linear relationship. The closer the correlation coefficient is to -1 or +1, the stronger the relationship.\n"
   ]
  },
  {
   "cell_type": "markdown",
   "id": "e286f649-0ac9-42d1-a843-deb6767ead01",
   "metadata": {},
   "source": [
    "Q14. How do outliers affect measures of central tendency and dispersion? Provide an example."
   ]
  },
  {
   "cell_type": "markdown",
   "id": "ec848866-6a83-4b3a-a557-70646c52056f",
   "metadata": {},
   "source": [
    "1. Mean:\n",
    "The mean is a measure of central tendency that calculates the average value of a dataset. Outliers can heavily influence the mean because they can pull the average towards extreme values. For example, consider a dataset representing the ages of a group of individuals: {22, 25, 26, 27, 30, 35, 40, 45, 50, 100}. In this dataset, the age of 100 is an outlier that significantly deviates from the other values. If we calculate the mean age, the outlier value of 100 will increase the average substantially, even though it is not representative of the majority. As a result, the mean may not accurately represent the typical age in the group.\n",
    "\n",
    "2. Standard Deviation:\n",
    "The standard deviation is a measure of dispersion that quantifies the amount of variation or spread in a dataset. Outliers can increase the standard deviation by introducing additional variability. Let's consider a dataset of exam scores for a class: {70, 75, 80, 85, 90, 95, 100, 105, 110}. In this dataset, the score of 105 and 110 are outliers that deviate significantly from the other scores. When calculating the standard deviation, these outliers will contribute to a larger spread in the data, resulting in a higher value than if they were not present. The standard deviation may overestimate the amount of variation in the exam scores due to the influence of the outliers."
   ]
  },
  {
   "cell_type": "code",
   "execution_count": null,
   "id": "c6a97554-f4e4-45d4-948d-86af06548c04",
   "metadata": {},
   "outputs": [],
   "source": []
  }
 ],
 "metadata": {
  "kernelspec": {
   "display_name": "Python 3 (ipykernel)",
   "language": "python",
   "name": "python3"
  },
  "language_info": {
   "codemirror_mode": {
    "name": "ipython",
    "version": 3
   },
   "file_extension": ".py",
   "mimetype": "text/x-python",
   "name": "python",
   "nbconvert_exporter": "python",
   "pygments_lexer": "ipython3",
   "version": "3.10.8"
  }
 },
 "nbformat": 4,
 "nbformat_minor": 5
}
