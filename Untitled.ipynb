{
 "cells": [
  {
   "cell_type": "markdown",
   "id": "4d403ccc-01ab-40a7-930b-7c9efc6f96a9",
   "metadata": {},
   "source": [
    "Q1. What  is  Exception in python? Write the difference between Exceptions and syntax errors."
   ]
  },
  {
   "cell_type": "markdown",
   "id": "bf14a1eb-3c30-440f-a462-039a81258c96",
   "metadata": {},
   "source": [
    "Exception - An exception is an event that occurs during the execution of a program , which disrupts the normal flow of the program's instructions.\n",
    "when an exception occurs the normal flow of the program is interupted , and the program jump to a special code block called an exception handler or an exception block, which is designed to handle the exceptional situation and prevent the program from crashing.\n",
    "\n",
    "Occurrence: Exceptions occur during the runtime of a program when a specific error condition is encountered, while syntax errors are detected during the parsing phase, before the code is executed.\n",
    "\n",
    "Nature: Exceptions are typically caused by unexpected situations or errors that occur during the execution of a program, such as division by zero, trying to access an index out of bounds, or opening a file that doesn't exist. Syntax errors, on the other hand, are caused by mistakes in the syntax of the code, such as misspelled keywords or missing punctuation marks.\n",
    "\n",
    "Handling: Exceptions can be handled using try-except blocks, allowing the program to gracefully recover from the error and continue executing the remaining code. Syntax errors, however, must be fixed before the code can be successfully executed, as they prevent the code from being parsed and interpreted correctly.\n",
    "\n",
    "Detection: Exceptions are typically raised by Python built-in functions or by user-defined functions using the raise statement. Syntax errors are detected by the Python interpreter during the parsing phase and are usually highlighted with an error message indicating the line number and the nature of the syntax error."
   ]
  },
  {
   "cell_type": "markdown",
   "id": "45d2fec3-4635-4daf-ba1a-c00aa7f05d38",
   "metadata": {},
   "source": [
    "Q2. What hppens when an exception is not handled? Explain with an example\u001e"
   ]
  },
  {
   "cell_type": "markdown",
   "id": "f96a160b-b974-4910-b4a5-5bc77624c77c",
   "metadata": {},
   "source": [
    "When an exception is not handled in a program , it result in what is known as an \"unhandled Exception\" . This means that the normal flow of exceution in the program is disrupted , and the program terminated abruptly. The exact behaviour of an unhandled exception can vary \n",
    "dpending on the programing language ,platform and enviroment in which the programming is running."
   ]
  },
  {
   "cell_type": "code",
   "execution_count": 12,
   "id": "5c4cbca0-801a-47d3-b687-ed6f3f24ec25",
   "metadata": {},
   "outputs": [
    {
     "name": "stdin",
     "output_type": "stream",
     "text": [
      "enter a number : 100\n",
      "enter  anotehr number : 2\n"
     ]
    },
    {
     "name": "stdout",
     "output_type": "stream",
     "text": [
      "Result: 50.0\n",
      "finallly block: This block will always exceute , regardless of whether an exception occured or not\n"
     ]
    }
   ],
   "source": [
    "##example\n",
    "try:\n",
    "    num1 = int(input(\"enter a number :\"))\n",
    "    num2 = int(input(\"enter  anotehr number :\"))\n",
    "    result = num1 / num2\n",
    "    print(\"Result:\" , result)\n",
    "except ZeroDivisionError:\n",
    "    print(\"Error: cannot divide by zero\")\n",
    "except ValueError:\n",
    "    print(\"Error: Invalid input please enter a valid input\")\n",
    "except Exception as e:\n",
    "    print(\"Error:\" , e)\n",
    "finally:\n",
    "    print(\"finallly block: This block will always exceute , regardless of whether an exception occured or not\")"
   ]
  },
  {
   "cell_type": "markdown",
   "id": "32d41f15-e8c3-4267-94ac-d5fc20c98394",
   "metadata": {},
   "source": [
    "Q3. Which Python statements are used to catch and handle exceptions? Explin with an example.\n"
   ]
  },
  {
   "cell_type": "code",
   "execution_count": 5,
   "id": "e63d88c3-f558-4caa-b550-3ea119dd4c2f",
   "metadata": {},
   "outputs": [
    {
     "name": "stdout",
     "output_type": "stream",
     "text": [
      "caught a value error. please enter a valid number.\n"
     ]
    }
   ],
   "source": [
    "### try and except statments are used to catch and handle exceptions.\n",
    "try :\n",
    "    num = int(\"abc\")\n",
    "except ValueError:\n",
    "    print(\"caught a value error. please enter a valid number.\")"
   ]
  },
  {
   "cell_type": "markdown",
   "id": "28d1c484-dca5-4d64-8361-f33b21ac33c0",
   "metadata": {},
   "source": [
    "Q4. Explain with an example:\n",
    "\n",
    "a. try and else \n",
    "\n",
    "b. finally\n",
    "\n",
    "c. raise "
   ]
  },
  {
   "cell_type": "code",
   "execution_count": 1,
   "id": "9fc0c200-ac0d-4da8-89b1-d1fedf1a2c2e",
   "metadata": {},
   "outputs": [
    {
     "name": "stdout",
     "output_type": "stream",
     "text": [
      "No error occured \n"
     ]
    }
   ],
   "source": [
    "##try and else\n",
    "try:\n",
    "    x = 10/2\n",
    "except ZeroDivisionError:\n",
    "    print(\"Error division \")\n",
    "else:\n",
    "    print(\"No error occured \")"
   ]
  },
  {
   "cell_type": "code",
   "execution_count": 5,
   "id": "66501255-0710-4641-8028-54e654354595",
   "metadata": {},
   "outputs": [
    {
     "name": "stdout",
     "output_type": "stream",
     "text": [
      "Error: division by zero\n",
      "finally block executed \n",
      "result  : None\n"
     ]
    }
   ],
   "source": [
    "#finally\n",
    "try:\n",
    "    num1 = 10\n",
    "    num2 = 0\n",
    "    result = num1/num2\n",
    "except ZeroDivisionError as e:\n",
    "    print(\"Error:\" ,e)\n",
    "    result = None\n",
    "finally:\n",
    "    print(\"finally block executed \")\n",
    "print(\"result  :\" , result)    "
   ]
  },
  {
   "cell_type": "code",
   "execution_count": 6,
   "id": "1350d226-2c5a-4210-bf7d-edc8e6d4f901",
   "metadata": {},
   "outputs": [
    {
     "name": "stdout",
     "output_type": "stream",
     "text": [
      "Error : negative number not allowed\n"
     ]
    }
   ],
   "source": [
    "###raise\n",
    "class myexception(Exception):\n",
    "    pass\n",
    "try:\n",
    "    num = -5\n",
    "    if num < 0:\n",
    "        raise myexception(\"negative number not allowed\")\n",
    "except myexception as e:\n",
    "    print(\"Error :\" , e)"
   ]
  },
  {
   "cell_type": "markdown",
   "id": "f22bfdaa-1022-4e28-a508-37ec0e0bb1dc",
   "metadata": {},
   "source": [
    "Q5. What are custom exception in python? why do we need custom exception? explain with an example."
   ]
  },
  {
   "cell_type": "code",
   "execution_count": 7,
   "id": "0951517b-a3ce-409e-9674-aae45c624171",
   "metadata": {},
   "outputs": [
    {
     "name": "stdout",
     "output_type": "stream",
     "text": [
      "Error : negative number not allowed\n"
     ]
    }
   ],
   "source": [
    "##you can define your own custom exceptions by creating new classes from the built - in Exception or any of its subclasses.\n",
    "#custom exceptions allows you define and handle ypur own exceptional situation in your code, providing more meaningful error message or\n",
    "#additonal information for debugging or error handling purposes\n",
    "class myexception(Exception):\n",
    "    pass\n",
    "try:\n",
    "    num = -5\n",
    "    if num < 0:\n",
    "        raise myexception(\"negative number not allowed\")\n",
    "except myexception as e:\n",
    "    print(\"Error :\" , e)\n",
    "##1. more meangingful error message\n",
    "#2. code organization and maintainability\n",
    "#3. domain specific error handling\n",
    "#4. Error propagation and handling flexbility\n",
    "##5. better debbuging and error resulution"
   ]
  },
  {
   "cell_type": "code",
   "execution_count": 10,
   "id": "3fde7916-a3f2-4b1b-a138-b3133cbb5c48",
   "metadata": {},
   "outputs": [],
   "source": [
    "##q6. create a cutom exception class . use this class to handle  an exception.\n",
    "class func(Exception):\n",
    "    def __init__(self, message ):\n",
    "        self.message = message\n",
    "try : \n",
    "    num = 5\n",
    "    if num > 5:\n",
    "        raise func(\"greater number is not allowed\")\n",
    "except func as e:\n",
    "    print(\"Error : \" , e.message)"
   ]
  },
  {
   "cell_type": "code",
   "execution_count": null,
   "id": "4780fdcc-c98c-4705-81cd-eec274855a81",
   "metadata": {},
   "outputs": [],
   "source": []
  }
 ],
 "metadata": {
  "kernelspec": {
   "display_name": "Python 3 (ipykernel)",
   "language": "python",
   "name": "python3"
  },
  "language_info": {
   "codemirror_mode": {
    "name": "ipython",
    "version": 3
   },
   "file_extension": ".py",
   "mimetype": "text/x-python",
   "name": "python",
   "nbconvert_exporter": "python",
   "pygments_lexer": "ipython3",
   "version": "3.10.8"
  }
 },
 "nbformat": 4,
 "nbformat_minor": 5
}
