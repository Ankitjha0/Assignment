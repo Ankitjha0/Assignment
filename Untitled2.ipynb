{
 "cells": [
  {
   "cell_type": "markdown",
   "id": "0aafbb8b-f2d9-4cf1-83b9-7593352c3f9f",
   "metadata": {},
   "source": [
    "Q1. what is multithreading in python? why is it used? Name the module used to handle threads in python?"
   ]
  },
  {
   "cell_type": "markdown",
   "id": "99bef64d-d15e-467c-a686-8e0c0313cc46",
   "metadata": {},
   "source": [
    "Multithreading in python refers to the concurrent execution of multiple threads within a single process . threads are lightweight,\n",
    "independent, and share the same memory space as the parent process , allowing them to run concurrently and perform task in parallel.\n",
    "\n",
    "Multithreading in python is used to achieve concurrent execution of multiple tasks within a single process allowing for improved performance and \n",
    "responsiveness in certain scenarios.\n",
    "\n",
    "The threading module is used to handle threads in python. The threading modules provides a thread class that allows you to create and manage threads \n",
    "in python programs. "
   ]
  },
  {
   "cell_type": "markdown",
   "id": "44e08988-e4cc-40f7-9306-7c6991e4dc5d",
   "metadata": {},
   "source": [
    "Q2. why threading module used? write the use of the following functions:\n",
    "1. activeCount()\n",
    "2. currentThread()\n",
    "3. enumerate()"
   ]
  },
  {
   "cell_type": "markdown",
   "id": "ba0e6368-039c-4468-b7f4-08e66f71c3ca",
   "metadata": {},
   "source": [
    "The threading module is used to create and manage threads, which are separate threads of execution that can run concurrently\n",
    "in a single process . Threads are used to achieve parelleism , allowing multiple task to be executed simultaneously, and can be useful in \n",
    "scenarios where tasks can be pefomed independently or concurrently, such as in GUI applications , web servers, or data processiong."
   ]
  },
  {
   "cell_type": "code",
   "execution_count": 7,
   "id": "3bae0a52-6dee-4527-b224-fa87c46470a3",
   "metadata": {},
   "outputs": [
    {
     "name": "stdout",
     "output_type": "stream",
     "text": [
      "thread 1 is running\n",
      "thread 2 is running\n",
      "thread 3 is running\n",
      "Number of active threads: 8 active threads\n"
     ]
    }
   ],
   "source": [
    "#1. Active count() -This function is used to get the number of Thread objects currently alive . it returns an integer represnting\n",
    "#the number of threads that are currently running or in a state of being started.\n",
    "\n",
    "\n",
    "\n",
    "import threading\n",
    "def func1():\n",
    "    print(\"thread 1 is running\")\n",
    "def func2 ():\n",
    "    print(\"thread 2 is running\")\n",
    "\n",
    "def func3():\n",
    "    print(\"thread 3 is running\")\n",
    "t1 = threading.Thread (target=func1)\n",
    "t2 = threading.Thread(target= func2)\n",
    "t3 = threading.Thread(target= func3)\n",
    "\n",
    "t1.start()\n",
    "t2.start()\n",
    "t3.start()\n",
    "\n",
    "active = threading.active_count()\n",
    "print(\"Number of active threads:\" , active,\"active threads\")"
   ]
  },
  {
   "cell_type": "code",
   "execution_count": 1,
   "id": "4d59d609-d6e1-4929-a7d3-62f891a08808",
   "metadata": {},
   "outputs": [],
   "source": [
    "## 2.current_thread () - This function is used to get the current thread object corresponding to the caller's of thread of control.\n",
    "#it returns an instance of the threads class represnting the currnt thread that is calling this function .\n"
   ]
  },
  {
   "cell_type": "code",
   "execution_count": 6,
   "id": "9e84fa07-e011-4cce-bd39-ee567299f78a",
   "metadata": {},
   "outputs": [
    {
     "name": "stdout",
     "output_type": "stream",
     "text": [
      "Current thread: Thread 1\n",
      "Current thread: Thread 2\n",
      "Current thread: Thread 3\n",
      "Alive threads:\n",
      "MainThread\n",
      "IOPub\n",
      "Heartbeat\n",
      "Thread-3 (_watch_pipe_fd)\n",
      "Thread-4 (_watch_pipe_fd)\n",
      "Control\n",
      "IPythonHistorySavingThread\n",
      "Thread-2\n"
     ]
    },
    {
     "name": "stderr",
     "output_type": "stream",
     "text": [
      "/tmp/ipykernel_176/2168460631.py:6: DeprecationWarning: getName() is deprecated, get the name attribute instead\n",
      "  print(\"Current thread:\", threading.current_thread().getName())\n",
      "/tmp/ipykernel_176/2168460631.py:24: DeprecationWarning: getName() is deprecated, get the name attribute instead\n",
      "  print(thread.getName())\n"
     ]
    }
   ],
   "source": [
    "##3. enumerate() - This function is used to return a list of all Thread objects that are currently alive.\n",
    "# It returns a list of Thread objects represnting all threads that are currently running or in a state of being started.\n",
    "import threading\n",
    "\n",
    "def print_current_thread():\n",
    "    print(\"Current thread:\", threading.current_thread().getName())\n",
    "\n",
    "# Create multiple threads\n",
    "t1 = threading.Thread(target=print_current_thread, name=\"Thread 1\")\n",
    "t2 = threading.Thread(target=print_current_thread, name=\"Thread 2\")\n",
    "t3 = threading.Thread(target=print_current_thread, name=\"Thread 3\")\n",
    "\n",
    "# Start the threads\n",
    "t1.start()\n",
    "t2.start()\n",
    "t3.start()\n",
    "\n",
    "\n",
    "threads = threading.enumerate()\n",
    "\n",
    "# Print the names of all alive threads\n",
    "print(\"Alive threads:\")\n",
    "for thread in threads:\n",
    "    print(thread.getName())"
   ]
  },
  {
   "cell_type": "code",
   "execution_count": 4,
   "id": "3f223ec4-11e6-4c90-a9a9-8725c901c48a",
   "metadata": {},
   "outputs": [
    {
     "name": "stdout",
     "output_type": "stream",
     "text": [
      "Current thread: Thread 1\n",
      "Current thread: Thread 2\n",
      "Current thread: Thread 3\n",
      "Alive threads:\n",
      "MainThread\n",
      "IOPub\n",
      "Heartbeat\n",
      "Thread-3 (_watch_pipe_fd)\n",
      "Thread-4 (_watch_pipe_fd)\n",
      "Control\n",
      "IPythonHistorySavingThread\n",
      "Thread-2\n"
     ]
    },
    {
     "name": "stderr",
     "output_type": "stream",
     "text": [
      "/tmp/ipykernel_176/1669678759.py:5: DeprecationWarning: getName() is deprecated, get the name attribute instead\n",
      "  print(\"Current thread:\", threading.current_thread().getName())\n",
      "/tmp/ipykernel_176/1669678759.py:23: DeprecationWarning: getName() is deprecated, get the name attribute instead\n",
      "  print(thread.getName())\n"
     ]
    }
   ],
   "source": [
    "import threading\n",
    "\n",
    "# Define a function to print the current thread\n",
    "def print_current_thread():\n",
    "    print(\"Current thread:\", threading.current_thread().getName())\n",
    "\n",
    "# Create multiple threads\n",
    "t1 = threading.Thread(target=print_current_thread, name=\"Thread 1\")\n",
    "t2 = threading.Thread(target=print_current_thread, name=\"Thread 2\")\n",
    "t3 = threading.Thread(target=print_current_thread, name=\"Thread 3\")\n",
    "\n",
    "# Start the threads\n",
    "t1.start()\n",
    "t2.start()\n",
    "t3.start()\n",
    "\n",
    "# Get the list of all alive threads\n",
    "threads = threading.enumerate()\n",
    "\n",
    "# Print the names of all alive threads\n",
    "print(\"Alive threads:\")\n",
    "for thread in threads:\n",
    "    print(thread.getName())"
   ]
  },
  {
   "cell_type": "markdown",
   "id": "d0d8739b-d15c-424f-abd3-6533181ef20a",
   "metadata": {},
   "source": [
    "Q3. Explain the folliwing functions:\n",
    "1. run()\n",
    "2. start()\n",
    "3. join()\n",
    "4. Isalive()"
   ]
  },
  {
   "cell_type": "markdown",
   "id": "308e7dad-8bf1-460f-a231-717b03119093",
   "metadata": {},
   "source": [
    "1. run(): This method is called when a thread is started using the start() method. \n",
    "It contains the code that will be executed in the new thread.\n",
    "\n",
    "2. start(): This method starts a new thread of execution by calling the \n",
    "run() method of the thread. It does not wait for the thread to complete execution and returns immediately.\n",
    "\n",
    "3. join([timeout]): This method blocks the calling thread until the thread whose join() method is called completes its execution.\n",
    "It can optionally take a timeout argument, which specifies the maximum amount of time towait for the thread to complete.\n",
    "If the timeout argument is not provided or is set to None, join() will block indefinitely until the thread completes.\n",
    "\n",
    "4. is_alive(): This method returns True if the thread is currently running, and False otherwise. \n",
    "It can be used to check if a thread is still executing before calling the join() method to wait for its completion."
   ]
  },
  {
   "cell_type": "markdown",
   "id": "fd85508f-0321-4147-aaa0-0ab7f616a077",
   "metadata": {},
   "source": [
    "Q4.write a python program to create two threads. Thread one must print the list of squares and thread\n",
    "two must print the list of cubes"
   ]
  },
  {
   "cell_type": "code",
   "execution_count": 4,
   "id": "d97d3a0c-2f75-4e00-90c5-34aa01535d75",
   "metadata": {},
   "outputs": [
    {
     "name": "stdout",
     "output_type": "stream",
     "text": [
      "1\n",
      "4\n",
      "9\n",
      "16\n",
      "25\n",
      "36\n",
      "49\n",
      "64\n",
      "81\n",
      "100\n",
      "121\n",
      "1\n",
      "8\n",
      "27\n",
      "64\n",
      "125\n",
      "216\n",
      "343\n",
      "512\n",
      "729\n",
      "1000\n",
      "1331\n"
     ]
    }
   ],
   "source": [
    "import threading\n",
    "def squares():\n",
    "    for i in range (1,12):\n",
    "        print(i**2)\n",
    "def cubes():\n",
    "    for i in range(1,12):\n",
    "        print(i**3)\n",
    "if __name__ ==  \"__main__\":\n",
    "    t1 = threading.Thread(target= squares)\n",
    "    t2 = threading.Thread(target= cubes)\n",
    "    t1.start()\n",
    "    t2.start()\n",
    "    \n",
    "    t1.join()\n",
    "    t2.join()"
   ]
  },
  {
   "cell_type": "markdown",
   "id": "f774e105-9fcd-427f-8f02-55390de0d937",
   "metadata": {},
   "source": [
    "Q5. state advantage and disadvantage of multithreading."
   ]
  },
  {
   "cell_type": "markdown",
   "id": "578272db-c62d-4054-a948-0b733d74ae3f",
   "metadata": {},
   "source": [
    "Advantages:\n",
    "\n",
    "Improved performance: Multithreading can significantly improve the performance of programs that are CPU-bound and require a lot of processing power by allowing multiple threads to execute simultaneously on multiple processors or cores.\n",
    "\n",
    "Better resource utilization: Multithreading can also improve the utilization of system resources like CPU, memory, and I/O devices by allowing threads to work in parallel.\n",
    "\n",
    "Enhanced responsiveness: Multithreading can provide better responsiveness and interactivity for applications that have to handle multiple user requests or perform background tasks while still responding to user inputs.\n",
    "\n",
    "Simplified program design: Multithreading can simplify program design by breaking complex tasks into smaller, independent parts that can be executed concurrently.\n",
    "Disadvantages:\n",
    "\n",
    "\n",
    "Increased complexity: Multithreading can make programs more complex and harder to debug and maintain due to the added complexity of managing threads and ensuring thread safety.\n",
    "\n",
    "Synchronization overhead: Multithreading can introduce synchronization overhead when multiple threads need to access shared resources, which can result in decreased performance and potential deadlocks.\n",
    "\n",
    "Race conditions: Multithreading can introduce race conditions, where multiple threads try to access the same resource simultaneously, leading to unpredictable results and program crashes.\n",
    "\n",
    "Difficulty in testing: Testing multithreaded programs can be challenging as it can be difficult to reproduce and debug errors that arise due to thread interactions."
   ]
  },
  {
   "cell_type": "markdown",
   "id": "60a8a7ba-e296-42ba-b67a-cefb302a90ea",
   "metadata": {},
   "source": [
    "Q6. Explain deadlocks and race conditions."
   ]
  },
  {
   "cell_type": "markdown",
   "id": "eedfac4b-9bf4-442e-8f5f-3f19a742febd",
   "metadata": {},
   "source": [
    "Deadlock - Deadlock is a situation in which two or more threads are blocked , waiting for each other to release a resources ,\n",
    "resulting in a program that is unable to make progress. deadlocks can occur when multiple threads are trying to acquire the same set\n",
    "of resources in a different order ,leading to a circular dependency,\n",
    "\n",
    "Race condition - A race condition is a situation in which the outcome of a program depends on the relative timing or order of events, and is not \n",
    "guranted to be consistent . Race condition can occur when mulitple threads access and modify a shared resources without proper synchronization , \n",
    "resulting in unperdicale behaviour."
   ]
  },
  {
   "cell_type": "code",
   "execution_count": null,
   "id": "d50d0dd9-7b60-4e2c-abb1-ff4ccd5bc0d5",
   "metadata": {},
   "outputs": [],
   "source": []
  }
 ],
 "metadata": {
  "kernelspec": {
   "display_name": "Python 3 (ipykernel)",
   "language": "python",
   "name": "python3"
  },
  "language_info": {
   "codemirror_mode": {
    "name": "ipython",
    "version": 3
   },
   "file_extension": ".py",
   "mimetype": "text/x-python",
   "name": "python",
   "nbconvert_exporter": "python",
   "pygments_lexer": "ipython3",
   "version": "3.10.8"
  }
 },
 "nbformat": 4,
 "nbformat_minor": 5
}
