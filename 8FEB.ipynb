{
 "cells": [
  {
   "cell_type": "markdown",
   "id": "6ba41f24-1768-45cd-8618-af0e1af7a819",
   "metadata": {},
   "source": [
    "Q1. What is Abstraction in OOps? Explain with an example?\n",
    "\n",
    "An abstraction  that cannot be install directly , you can use first import abc then you use it(from abc import ABC, import abc). An abstraction is defined as a process of handling complexity by hiding unnecessary information from the user. this is one of the core concepts of oops language. "
   ]
  },
  {
   "cell_type": "code",
   "execution_count": 18,
   "id": "4125a6e9-e21e-41d3-a430-d59fa8a6b4e4",
   "metadata": {},
   "outputs": [],
   "source": [
    "###Example\n",
    "from abc import ABC, abstractmethod\n",
    "class shape(ABC):\n",
    "    @abstractmethod\n",
    "    def area(self):\n",
    "        pass\n",
    "class Rectangle(shape):\n",
    "    def __init__(self, width,  height):\n",
    "        self.width = width\n",
    "        self.height = height\n",
    "    def area(self):\n",
    "        return self.width * self.height\n",
    "    \n",
    "            \n",
    "            "
   ]
  },
  {
   "cell_type": "code",
   "execution_count": 19,
   "id": "ecc37977-c540-43f4-a17c-3ce553745a97",
   "metadata": {},
   "outputs": [
    {
     "name": "stdout",
     "output_type": "stream",
     "text": [
      "100\n"
     ]
    }
   ],
   "source": [
    "rect = Rectangle(5,20)\n",
    "print(rect.area())"
   ]
  },
  {
   "cell_type": "markdown",
   "id": "14683f0a-3504-40d1-9f32-cf6353a109d4",
   "metadata": {},
   "source": [
    "Q2. Differentiate between Abstraction and Encapsulation. Explain with an example.\n",
    "\n",
    "Abstraction - Abstraction is the  process of hiding complex implementation details and exposing necessary information from the user.\n",
    "In other word its , it is a technique of presenting only essential features of object and hiding the rest from the user.\n",
    "Encapsulation - Encapsulation is the process of wrapping data and methods into a single unit and restricting access to the data from outside the class .it is a way of protecting the data from unauthorized access and modification."
   ]
  },
  {
   "cell_type": "code",
   "execution_count": 21,
   "id": "af197928-14bd-41e6-943e-52ad66592852",
   "metadata": {},
   "outputs": [
    {
     "data": {
      "text/plain": [
       "'TATA Safari has a seating capacity of 7'"
      ]
     },
     "execution_count": 21,
     "metadata": {},
     "output_type": "execute_result"
    }
   ],
   "source": [
    "###abstractin method\n",
    "class Vehicle:\n",
    "    def __init__(self, name_of_vehicle, max_speed, average_of_vehicle):\n",
    "        self.name_of_vehicle = name_of_vehicle\n",
    "        self.max_speed = max_speed\n",
    "        self.average_of_vehicle = average_of_vehicle\n",
    "class Car(Vehicle):\n",
    "    def seating_capacity(self, capacity):\n",
    "        return f\"{self.name_of_vehicle} has a seating capacity of {capacity}\"\n",
    "Car('TATA Safari', 250, 28).seating_capacity(7)    "
   ]
  },
  {
   "cell_type": "code",
   "execution_count": 23,
   "id": "7f6b8a42-38ef-4601-b3a0-36097309dc3d",
   "metadata": {},
   "outputs": [
    {
     "name": "stdout",
     "output_type": "stream",
     "text": [
      "Balance: 1000\n",
      "Balance: 1500\n",
      "Insufficient balance\n",
      "Balance: 1500\n"
     ]
    }
   ],
   "source": [
    "####Encapsulation example\n",
    "class BankAccount:\n",
    "    def __init__(self, balance, interest_rate):\n",
    "        self.balance = balance\n",
    "        self.interest_rate = interest_rate\n",
    "        \n",
    "    def deposit(self, amount):\n",
    "        self.balance += amount\n",
    "        \n",
    "    def withdraw(self, amount):\n",
    "        if amount > self.balance:\n",
    "            print(\"Insufficient balance\")\n",
    "        else:\n",
    "            self.balance -= amount\n",
    "        \n",
    "    def calculate_interest(self):\n",
    "        return self.balance * self.interest_rate\n",
    "        \n",
    "    def display_balance(self):\n",
    "        print(\"Balance:\", self.balance)\n",
    "account = BankAccount(1000, 0.05)\n",
    "account.display_balance()\n",
    "\n",
    "account.deposit(500)\n",
    "account.display_balance()\n",
    "\n",
    "account.withdraw(2000)\n",
    "account.display_balance()"
   ]
  },
  {
   "cell_type": "markdown",
   "id": "2b70b884-419e-4f92-a976-9e4f920d3aaa",
   "metadata": {},
   "source": [
    "Q3. What is abc module in python? Why is it used?\n",
    "\n",
    "Answer - The abc (abstract base classes) module in python provide a way to define abstract classes . Abstract classes are classes that cannot be\n",
    "instanitiated directly and are meant to be subclassed by other classes.\n",
    "The abc module abstract base classes are used in python to pormote code reusability  and to ensure that certain methods are implemented in subclasses . By defining abstract classes and methods, we can define a common interface that must be followed by all subclasses,"
   ]
  },
  {
   "cell_type": "markdown",
   "id": "b80f34ad-92a9-4686-9cae-4c3c383f213b",
   "metadata": {},
   "source": [
    " Q4. How can we achieve data abstraction?\n",
    "\n",
    "Answer - Data abstraction can be achieved through the use of classes and abject. By definig a class with private attributes and public method that allow access to and modification of those attributes , we can control how the data is accessed and mainuplated from outside the class.\n",
    "\n"
   ]
  },
  {
   "cell_type": "markdown",
   "id": "b0037610-e0f6-42f4-a3f5-98d0a66075a3",
   "metadata": {},
   "source": [
    "Q5. Can we create an instance of an abstract class? Explain your answer.\n",
    "\n",
    "No we cannnot create an instance of an abstract class in python . An abstract class is a class that contains one or more abstract mehods . \n",
    "Since abstarct method have no implementatation , they cnnot be called directly .\n",
    "Therefore, an abstract class cannot be instantianted own its shown. instead we need to create a subclass of the abstract class and provide an implementation for the abstract method in the subclass."
   ]
  },
  {
   "cell_type": "code",
   "execution_count": null,
   "id": "408e1bec-ed07-480c-b369-aac69709ff85",
   "metadata": {},
   "outputs": [],
   "source": []
  }
 ],
 "metadata": {
  "kernelspec": {
   "display_name": "Python 3 (ipykernel)",
   "language": "python",
   "name": "python3"
  },
  "language_info": {
   "codemirror_mode": {
    "name": "ipython",
    "version": 3
   },
   "file_extension": ".py",
   "mimetype": "text/x-python",
   "name": "python",
   "nbconvert_exporter": "python",
   "pygments_lexer": "ipython3",
   "version": "3.10.8"
  }
 },
 "nbformat": 4,
 "nbformat_minor": 5
}
