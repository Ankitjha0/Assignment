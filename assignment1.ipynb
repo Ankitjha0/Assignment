{
 "cells": [
  {
   "cell_type": "code",
   "execution_count": 1,
   "id": "99515baf-dbde-4843-bf73-b8b1d27d9312",
   "metadata": {},
   "outputs": [
    {
     "name": "stdout",
     "output_type": "stream",
     "text": [
      "1\n",
      "2\n",
      "3\n",
      "4\n",
      "5\n",
      "0\n",
      "1\n",
      "2\n",
      "3\n",
      "4\n"
     ]
    }
   ],
   "source": [
    "##Q1 Explaiun with an example each when to use a for loop and a while loop\n",
    "##for loop\n",
    "for i in range(1,6):\n",
    "    print (i)\n",
    "##while loop\n",
    "x = 0\n",
    "while x <5:\n",
    "    print(x)\n",
    "    x += 1"
   ]
  },
  {
   "cell_type": "code",
   "execution_count": 2,
   "id": "44ab1367-59b2-450f-b255-e0f2c1d8a154",
   "metadata": {},
   "outputs": [
    {
     "name": "stdout",
     "output_type": "stream",
     "text": [
      "the sum of the first 10 natural numbers is: 55\n",
      "the product of the first 10 natural number is: 3628800\n",
      " the sum of the first 10 natural number is: 55\n",
      "the product of the first 10 natural number is: 3628800\n"
     ]
    }
   ],
   "source": [
    "##Q2 write a python program to print the sum and prduct of the first 10 natural numbers using both for and while loop:\n",
    "#sum and product of first 10 natural number using for loop\n",
    "sum = 0\n",
    "product = 1\n",
    "for i in range (1,11):\n",
    "    sum += i\n",
    "    product *= i\n",
    "print(\"the sum of the first 10 natural numbers is:\",sum)\n",
    "print(\"the product of the first 10 natural number is:\",product)\n",
    "#sum and product of first 10 natuiral number using while loop\n",
    "sum = 0\n",
    "product = 1\n",
    "i = 1\n",
    "while i <=10:\n",
    "    sum += i\n",
    "    product *= i\n",
    "    i += 1    \n",
    "print(\" the sum of the first 10 natural number is:\",sum)\n",
    "print(\"the product of the first 10 natural number is:\",product) "
   ]
  },
  {
   "cell_type": "code",
   "execution_count": 3,
   "id": "577b3967-6fef-45bb-8b15-95fb6c3715e4",
   "metadata": {},
   "outputs": [
    {
     "name": "stdin",
     "output_type": "stream",
     "text": [
      "Enter the units consumed:  310\n"
     ]
    },
    {
     "name": "stdout",
     "output_type": "stream",
     "text": [
      "The total electricity bill is Rs. 2250.00\n"
     ]
    }
   ],
   "source": [
    "###Q3 create a python program to compute the electricity bill for a household . the per unit charges rupees are as follows: for the first 100 units, the user will be charged Rs. 4.5 per unit, for the next 100units, the user will be charged Rs 6 per unit, and for the next 100 units ,the user will be charged rs 10 per unit , After 300 units and above the user will be charged rs.20 p[er unit.you are required to take the units of electricity consumed in a month from the user as input.your program must pass  this test cas: when the unit of electricity consumed by the user in a month is 310, the total electricity bill should be 2250.\n",
    "# Get the units consumed from the user\n",
    "units_consumed = int(input(\"Enter the units consumed: \"))\n",
    "\n",
    "# Initialize the bill amount to zero\n",
    "bill_amount = 0\n",
    "\n",
    "# Calculate the bill amount for the first 100 units\n",
    "if units_consumed <= 100:\n",
    "    bill_amount += units_consumed * 4.5\n",
    "else:\n",
    "    bill_amount += 100 * 4.5\n",
    "    units_consumed -= 100\n",
    "\n",
    "# Calculate the bill amount for the next 100 units\n",
    "if units_consumed <= 100:\n",
    "    bill_amount += units_consumed * 6\n",
    "else:\n",
    "    bill_amount += 100 * 6\n",
    "    units_consumed -= 100\n",
    "\n",
    "# Calculate the bill amount for the next 100 units\n",
    "if units_consumed <= 100:\n",
    "    bill_amount += units_consumed * 10\n",
    "else:\n",
    "    bill_amount += 100 * 10\n",
    "    units_consumed -= 100\n",
    "\n",
    "# Calculate the bill amount for units consumed above 300\n",
    "if units_consumed > 0:\n",
    "    bill_amount += units_consumed * 20\n",
    "\n",
    "# Print the bill amount\n",
    "print(f\"The total electricity bill is Rs. {bill_amount:.2f}\")"
   ]
  },
  {
   "cell_type": "code",
   "execution_count": 4,
   "id": "c984d05c-e970-4e38-94db-aa01e91da3ae",
   "metadata": {},
   "outputs": [
    {
     "name": "stdout",
     "output_type": "stream",
     "text": [
      "[2, 4, 5, 6, 8, 10, 12, 14, 15, 16, 18, 20, 22, 24, 25, 26, 28, 30, 32, 34, 35, 36, 38, 40, 42, 44, 45, 46, 48, 50, 52, 54, 55, 56, 58, 60, 62, 64, 65, 66, 68, 70, 72, 74, 75, 76, 78, 80, 82, 84, 85, 86, 88, 90, 92, 94, 95, 96, 98, 100]\n",
      "[1, 2, 3, 4, 5, 6, 7, 8, 9, 10, 11, 12, 13, 14, 15, 16, 17, 18, 19, 20, 21, 22, 23, 24, 25, 26, 27, 28, 29, 30, 31, 32, 33, 34, 35, 36, 37, 38, 39, 40, 41, 42, 43, 44, 45, 46, 47, 48, 49, 50, 51, 52, 53, 54, 55, 56, 57, 58, 59, 60, 61, 62, 63, 64, 65, 66, 67, 68, 69, 70, 71, 72, 73, 74, 75, 76, 77, 78, 79, 80, 81, 82, 83, 84, 85, 86, 87, 88, 89, 90, 91, 92, 93, 94, 95, 96, 97, 98, 99, 100]\n"
     ]
    }
   ],
   "source": [
    "##Q4create a list of number from 1 to 100. use for loop and while loop to calculate the cube of each number and if the cube of that number is divisble by 4 or 5 then append that number in a list and print that list.\n",
    "#using a for loop\n",
    "cube_list = []\n",
    "for i in range(1,101):\n",
    "    cube = i**3\n",
    "    if cube % 4 == 0 or cube % 5 == 0:\n",
    "        cube_list.append(i)\n",
    "print(cube_list)\n",
    "##using a while loop\n",
    "cube_list = []\n",
    "i = 1\n",
    "while i <= 100:\n",
    "    cube == i**3\n",
    "    if cube % 4 == 0 or cube % 5 == 0:\n",
    "        cube_list.append(i)\n",
    "        i += 1\n",
    "print(cube_list)        "
   ]
  },
  {
   "cell_type": "code",
   "execution_count": 5,
   "id": "3d3fb0d4-0361-4d28-ac6a-2e4e34434f34",
   "metadata": {},
   "outputs": [
    {
     "name": "stdout",
     "output_type": "stream",
     "text": [
      "a: 4\n",
      "e: 3\n",
      "i: 3\n",
      "o: 2\n",
      "u: 0\n"
     ]
    }
   ],
   "source": [
    "##Q5write a program to filter count vowels in the below given string..string = \"i want to become a data scientist\"##\n",
    "string = \"I want to become a data scientist\"\n",
    "vowels = 'aeiou'\n",
    "\n",
    "# Convert all characters in the string to lowercase\n",
    "string = string.lower()\n",
    "\n",
    "# Initialize a dictionary to store vowel counts\n",
    "vowel_counts = {vowel: 0 for vowel in vowels}\n",
    "\n",
    "# Iterate over each character in the string\n",
    "for char in string:\n",
    "    # Check if the character is a vowel\n",
    "    if char in vowels:\n",
    "        # If the character is a vowel, increment its count in the dictionary\n",
    "        vowel_counts[char] += 1\n",
    "\n",
    "# Print the vowel counts\n",
    "for vowel, count in vowel_counts.items():\n",
    "    print(f'{vowel}: {count}')"
   ]
  },
  {
   "cell_type": "code",
   "execution_count": null,
   "id": "187f8419-c2ec-449f-8f65-6cee22e436b2",
   "metadata": {},
   "outputs": [],
   "source": []
  }
 ],
 "metadata": {
  "kernelspec": {
   "display_name": "Python 3 (ipykernel)",
   "language": "python",
   "name": "python3"
  },
  "language_info": {
   "codemirror_mode": {
    "name": "ipython",
    "version": 3
   },
   "file_extension": ".py",
   "mimetype": "text/x-python",
   "name": "python",
   "nbconvert_exporter": "python",
   "pygments_lexer": "ipython3",
   "version": "3.10.8"
  }
 },
 "nbformat": 4,
 "nbformat_minor": 5
}
